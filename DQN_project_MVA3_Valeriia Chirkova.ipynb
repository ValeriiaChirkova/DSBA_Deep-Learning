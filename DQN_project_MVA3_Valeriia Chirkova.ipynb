{
 "cells": [
  {
   "cell_type": "markdown",
   "metadata": {},
   "source": [
    "**You may need to install [OpenCV](https://pypi.python.org/pypi/opencv-python) and [scikit-video](http://www.scikit-video.org/stable/).**"
   ]
  },
  {
   "cell_type": "code",
   "execution_count": 1,
   "metadata": {},
   "outputs": [
    {
     "name": "stderr",
     "output_type": "stream",
     "text": [
      "C:\\Users\\Valeria\\Anaconda3\\lib\\site-packages\\h5py\\__init__.py:36: FutureWarning: Conversion of the second argument of issubdtype from `float` to `np.floating` is deprecated. In future, it will be treated as `np.float64 == np.dtype(float).type`.\n",
      "  from ._conv import register_converters as _register_converters\n",
      "Using TensorFlow backend.\n"
     ]
    }
   ],
   "source": [
    "import keras\n",
    "import numpy as np\n",
    "import io\n",
    "import base64\n",
    "from IPython.display import HTML\n",
    "import skvideo\n",
    "skvideo.setFFmpegPath('C:\\\\Users\\\\Valeria\\\\Desktop\\\\ESSEC\\\\Electives\\\\Deep learning\\\\Assignment 3\\\\ffmpeg-2\\\\bin')\n",
    "import skvideo.io\n",
    "import cv2\n",
    "import json\n",
    "\n",
    "from keras.models import Sequential,model_from_json\n",
    "from keras.layers.core import Dense\n",
    "from keras.optimizers import sgd\n",
    "from keras.layers import Conv2D, MaxPooling2D, Activation, AveragePooling2D,Reshape,BatchNormalization, Flatten"
   ]
  },
  {
   "cell_type": "markdown",
   "metadata": {},
   "source": [
    "# MiniProject #3: Deep Reinforcement Learning"
   ]
  },
  {
   "cell_type": "markdown",
   "metadata": {},
   "source": [
    "__Notations__: $E_p$ is the expectation under probability $p$. Please justify each of your answer and widely comment your code."
   ]
  },
  {
   "cell_type": "markdown",
   "metadata": {},
   "source": [
    "# Context"
   ]
  },
  {
   "cell_type": "markdown",
   "metadata": {},
   "source": [
    "In a reinforcement learning algorithm, we modelize each step $t$ as an action $a_t$ obtained from a state $s_t$, i.e. $\\{(a_{t},s_{t})_{t\\leq T}\\}$ having the Markov property. We consider a discount factor $\\gamma \\in [0,1]$ that ensures convergence. The goal is to find among all the policies $\\pi$, one that maximizes the expected reward:\n",
    "\n",
    "\\begin{equation*}\n",
    "R(\\pi)=\\sum_{t\\leq T}E_{p^{\\pi}}[\\gamma^t r(s_{t},a_{t})] \\> ,\n",
    "\\end{equation*}\n",
    "\n",
    "where: \n",
    "\\begin{equation*}p^{\\pi}(a_{0},a_{1},s_{1},...,a_{T},s_{T})=p(a_{0})\\prod_{t=1}^{T}\\pi(a_{t}|s_{t})p(s_{t+1}|s_{t},a_{t}) \\> .\n",
    "\\end{equation*}\n",
    "\n",
    "We note the $Q$-function:\n",
    "\n",
    "\\begin{equation*}Q^\\pi(s,a)=E_{p^{\\pi}}[\\sum_{t\\leq T}\\gamma^{t}r(s_{t},a_{t})|s_{0}=s,a_{0}=a] \\> .\n",
    "\\end{equation*}\n",
    "\n",
    "Thus, the optimal Q function is:\n",
    "\\begin{equation*}\n",
    "Q^*(s,a)=\\max_{\\pi}Q^\\pi(s,a) \\> .\n",
    "\\end{equation*}\n",
    "\n",
    "In this project, we will apply the deep reinforcement learning techniques to a simple game: an agent will have to learn from scratch a policy that will permit it maximizing a reward."
   ]
  },
  {
   "cell_type": "markdown",
   "metadata": {},
   "source": [
    "## The environment, the agent and the game"
   ]
  },
  {
   "cell_type": "markdown",
   "metadata": {},
   "source": [
    "### The environment"
   ]
  },
  {
   "cell_type": "markdown",
   "metadata": {},
   "source": [
    "```Environment``` is an abstract class that represents the states, rewards, and actions to obtain the new state."
   ]
  },
  {
   "cell_type": "code",
   "execution_count": 2,
   "metadata": {},
   "outputs": [],
   "source": [
    "class Environment(object):\n",
    "    def __init__(self):\n",
    "        pass\n",
    "\n",
    "    def act(self, act):\n",
    "        \"\"\"\n",
    "        One can act on the environment and obtain its reaction:\n",
    "        - the new state\n",
    "        - the reward of the new state\n",
    "        - should we continue the game?\n",
    "\n",
    "        :return: state, reward, game_over\n",
    "        \"\"\"\n",
    "        pass\n",
    "\n",
    "\n",
    "    def reset(self):\n",
    "        \"\"\"\n",
    "        Reinitialize the environment to a random state and returns\n",
    "        the original state\n",
    "\n",
    "        :return: state\n",
    "        \"\"\"\n",
    "        pass\n",
    "    \n",
    "    def draw(self):\n",
    "        \"\"\"\n",
    "        Visualize in the console or graphically the current state\n",
    "        \"\"\"\n",
    "        pass"
   ]
  },
  {
   "cell_type": "markdown",
   "metadata": {},
   "source": [
    "The method ```act``` allows to act on the environment at a given state $s_t$ (stored internally), via action $a_t$. The method will return the new state $s_{t+1}$, the reward $r(s_{t},a_{t})$ and determines if $t\\leq T$ (*game_over*).\n",
    "\n",
    "The method ```reset``` simply reinitializes the environment to a random state $s_0$.\n",
    "\n",
    "The method ```draw``` displays the current state $s_t$ (this is useful to check the behavior of the Agent).\n",
    "\n",
    "We modelize $s_t$ as a tensor, while $a_t$ is an integer."
   ]
  },
  {
   "cell_type": "markdown",
   "metadata": {},
   "source": [
    "### The Agent"
   ]
  },
  {
   "cell_type": "markdown",
   "metadata": {},
   "source": [
    "The goal of the ```Agent``` is to interact with the ```Environment``` by proposing actions $a_t$ obtained from a given state $s_t$ to attempt to maximize its __reward__ $r(s_t,a_t)$. We propose the following abstract class:"
   ]
  },
  {
   "cell_type": "code",
   "execution_count": 3,
   "metadata": {},
   "outputs": [],
   "source": [
    "class Agent(object):\n",
    "    def __init__(self, epsilon=0.1, n_action=4):\n",
    "        self.epsilon = epsilon\n",
    "        self.n_action = n_action\n",
    "    \n",
    "    def set_epsilon(self,e):\n",
    "        self.epsilon = e\n",
    "\n",
    "    def act(self,s,train=True):\n",
    "        \"\"\" This function should return the next action to do:\n",
    "        an integer between 0 and 4 (not included) with a random exploration of epsilon\"\"\"\n",
    "        if train:\n",
    "            if np.random.rand() <= self.epsilon:\n",
    "                a = np.random.randint(0, self.n_action, size=1)[0]\n",
    "            else:\n",
    "                a = self.learned_act(s)\n",
    "        else: # in some cases, this can improve the performance.. remove it if poor performances\n",
    "            a = self.learned_act(s)\n",
    "\n",
    "        return a\n",
    "\n",
    "    def learned_act(self,s):\n",
    "        \"\"\" Act via the policy of the agent, from a given state s\n",
    "        it proposes an action a\"\"\"\n",
    "        pass\n",
    "\n",
    "    def reinforce(self, s, n_s, a, r, game_over_):\n",
    "        \"\"\" This function is the core of the learning algorithm. \n",
    "        It takes as an input the current state s_, the next state n_s_\n",
    "        the action a_ used to move from s_ to n_s_ and the reward r_.\n",
    "        \n",
    "        Its goal is to learn a policy.\n",
    "        \"\"\"\n",
    "        pass\n",
    "\n",
    "    def save(self):\n",
    "        \"\"\" This function returns basic stats if applicable: the\n",
    "        loss and/or the model\"\"\"\n",
    "        pass\n",
    "\n",
    "    def load(self):\n",
    "        \"\"\" This function allows to restore a model\"\"\"\n",
    "        pass"
   ]
  },
  {
   "cell_type": "markdown",
   "metadata": {},
   "source": [
    "***\n",
    "__Question 1__:\n",
    "Explain the function act. Why is ```epsilon``` essential?"
   ]
  },
  {
   "cell_type": "markdown",
   "metadata": {},
   "source": [
    "> Function act defines which action is taken next. Agent follows $\\epsilon$-greedy policy which is an algorithm for trading off exploration and exploitation: generally agent takes best action (1 - $\\epsilon$) but with small probability $\\epsilon$ it explores other available options. At each step it makes the decision between random or learned action. \n",
    "The problem with pure greedy policy is that agent tries to maximize local reward and can be easily stuck in sub-optinal solution. Epsilon allows agent to explore and thus increase chances to converge to optimal path faster."
   ]
  },
  {
   "cell_type": "markdown",
   "metadata": {},
   "source": [
    "***\n",
    "### The Game"
   ]
  },
  {
   "cell_type": "markdown",
   "metadata": {},
   "source": [
    "The ```Agent``` and the ```Environment``` work in an interlaced way as in the following (take some time to understand this code as it is the core of the project)\n",
    "\n",
    "```python\n",
    "\n",
    "epoch = 300\n",
    "env = Environment()\n",
    "agent = Agent()\n",
    "\n",
    "\n",
    "# Number of won games\n",
    "score = 0\n",
    "loss = 0\n",
    "\n",
    "\n",
    "for e in range(epoch):\n",
    "    # At each epoch, we restart to a fresh game and get the initial state\n",
    "    state = env.reset()\n",
    "    # This assumes that the games will end\n",
    "    game_over = False\n",
    "\n",
    "    win = 0\n",
    "    lose = 0\n",
    "    \n",
    "    while not game_over:\n",
    "        # The agent performs an action\n",
    "        action = agent.act(state)\n",
    "\n",
    "        # Apply an action to the environment, get the next state, the reward\n",
    "        # and if the games end\n",
    "        prev_state = state\n",
    "        state, reward, game_over = env.act(action)\n",
    "\n",
    "        # Update the counters\n",
    "        if reward > 0:\n",
    "            win = win + reward\n",
    "        if reward < 0:\n",
    "            lose = lose -reward\n",
    "\n",
    "        # Apply the reinforcement strategy\n",
    "        loss = agent.reinforce(prev_state, state,  action, reward, game_over)\n",
    "\n",
    "    # Save as a mp4\n",
    "    if e % 10 == 0:\n",
    "        env.draw(e)\n",
    "\n",
    "    # Update stats\n",
    "    score += win-lose\n",
    "\n",
    "    print(\"Epoch {:03d}/{:03d} | Loss {:.4f} | Win/lose count {}/{} ({})\"\n",
    "          .format(e, epoch, loss, win, lose, win-lose))\n",
    "    agent.save()\n",
    "```"
   ]
  },
  {
   "cell_type": "markdown",
   "metadata": {},
   "source": [
    "# The game, *eat cheese*"
   ]
  },
  {
   "cell_type": "markdown",
   "metadata": {},
   "source": [
    "A rat runs on an island and tries to eat as much as possible. The island is subdivided into $N\\times N$ cells, in which there are cheese (+0.5) and poisonous cells (-1). The rat has a visibility of 2 cells (thus it can see $5^2$ cells). The rat is given a time $T$ to accumulate as much food as possible. It can perform 4 actions: going up, down, left, right. \n",
    "\n",
    "The goal is to code an agent to solve this task that will learn by trial and error. We propose the following environment:"
   ]
  },
  {
   "cell_type": "code",
   "execution_count": 4,
   "metadata": {},
   "outputs": [],
   "source": [
    "class Environment(object):\n",
    "    def __init__(self, grid_size=10, max_time=500, temperature=0.1):\n",
    "        grid_size = grid_size+4\n",
    "        self.grid_size = grid_size\n",
    "        self.max_time = max_time\n",
    "        self.temperature = temperature\n",
    "\n",
    "        #board on which one plays\n",
    "        self.board = np.zeros((grid_size,grid_size))\n",
    "        self.position = np.zeros((grid_size,grid_size))\n",
    "\n",
    "        # coordinate of the rat\n",
    "        self.x = 0\n",
    "        self.y = 1\n",
    "\n",
    "        # self time\n",
    "        self.t = 0\n",
    "\n",
    "        self.scale=16\n",
    "\n",
    "        self.to_draw = np.zeros((max_time+2, grid_size*self.scale, grid_size*self.scale, 3))\n",
    "\n",
    "\n",
    "    def draw(self,e):\n",
    "        skvideo.io.vwrite(str(e) + '.mp4', self.to_draw)\n",
    "\n",
    "    def get_frame(self,t):\n",
    "        b = np.zeros((self.grid_size,self.grid_size,3))+128\n",
    "        b[self.board>0,0] = 256\n",
    "        b[self.board < 0, 2] = 256\n",
    "        b[self.x,self.y,:]=256\n",
    "        b[-2:,:,:]=0\n",
    "        b[:,-2:,:]=0\n",
    "        b[:2,:,:]=0\n",
    "        b[:,:2,:]=0\n",
    "        \n",
    "        b =  cv2.resize(b, None, fx=self.scale, fy=self.scale, interpolation=cv2.INTER_NEAREST)\n",
    "\n",
    "        self.to_draw[t,:,:,:]=b\n",
    "\n",
    "\n",
    "    def act(self, action):\n",
    "        \"\"\"This function returns the new state, reward and decides if the\n",
    "        game ends.\"\"\"\n",
    "\n",
    "        self.get_frame(int(self.t))\n",
    "\n",
    "        self.position = np.zeros((self.grid_size, self.grid_size))\n",
    "\n",
    "        self.position[0:2,:]= -1\n",
    "        self.position[:,0:2] = -1\n",
    "        self.position[-2:, :] = -1\n",
    "        self.position[:,-2:] = -1 \n",
    "\n",
    "        self.position[self.x, self.y] = 1\n",
    "        if action == 0:\n",
    "            if self.x == self.grid_size-3:\n",
    "                self.x = self.x-1\n",
    "            else:\n",
    "                self.x = self.x + 1\n",
    "        elif action == 1:\n",
    "            if self.x == 2:\n",
    "                self.x = self.x+1\n",
    "            else:\n",
    "                self.x = self.x-1\n",
    "        elif action == 2:\n",
    "            if self.y == self.grid_size - 3:\n",
    "                self.y = self.y - 1\n",
    "            else:\n",
    "                self.y = self.y + 1\n",
    "        elif action == 3:\n",
    "            if self.y == 2:\n",
    "                self.y = self.y + 1\n",
    "            else:\n",
    "                self.y = self.y - 1\n",
    "        else:\n",
    "            RuntimeError('Error: action not recognized')\n",
    "\n",
    "        self.t = self.t + 1\n",
    "        reward = self.board[self.x, self.y]\n",
    "        self.board[self.x, self.y] = 0\n",
    "        game_over = self.t > self.max_time\n",
    "        state = np.concatenate((self.board.reshape(self.grid_size, self.grid_size,1),\n",
    "                        self.position.reshape(self.grid_size, self.grid_size,1)),axis=2)\n",
    "        state = state[self.x-2:self.x+3,self.y-2:self.y+3,:]\n",
    "\n",
    "        return state, reward, game_over\n",
    "\n",
    "    def reset(self):\n",
    "        \"\"\"This function resets the game and returns the initial state\"\"\"\n",
    "\n",
    "        self.x = np.random.randint(3, self.grid_size-3, size=1)[0]\n",
    "        self.y = np.random.randint(3, self.grid_size-3, size=1)[0]\n",
    "\n",
    "\n",
    "        bonus = 0.5*np.random.binomial(1,self.temperature,size=self.grid_size**2)\n",
    "        bonus = bonus.reshape(self.grid_size,self.grid_size)\n",
    "\n",
    "        malus = -1.0*np.random.binomial(1,self.temperature,size=self.grid_size**2)\n",
    "        malus = malus.reshape(self.grid_size, self.grid_size)\n",
    "\n",
    "        self.to_draw = np.zeros((self.max_time+2, self.grid_size*self.scale, self.grid_size*self.scale, 3))\n",
    "\n",
    "\n",
    "        malus[bonus>0]=0\n",
    "\n",
    "        self.board = bonus + malus\n",
    "\n",
    "        self.position = np.zeros((self.grid_size, self.grid_size))\n",
    "        self.position[0:2,:]= -1\n",
    "        self.position[:,0:2] = -1\n",
    "        self.position[-2:, :] = -1\n",
    "        self.position[:,-2:] = -1 \n",
    "        self.board[self.x,self.y] = 0\n",
    "        self.t = 0\n",
    "\n",
    "        state = np.concatenate((\n",
    "                               self.board.reshape(self.grid_size, self.grid_size,1),\n",
    "                        self.position.reshape(self.grid_size, self.grid_size,1)),axis=2)\n",
    "\n",
    "        state = state[self.x - 2:self.x + 3, self.y - 2:self.y + 3, :]\n",
    "        return state"
   ]
  },
  {
   "cell_type": "markdown",
   "metadata": {},
   "source": [
    "The following elements are important because they correspond to the hyper parameters for this project:"
   ]
  },
  {
   "cell_type": "code",
   "execution_count": 5,
   "metadata": {},
   "outputs": [],
   "source": [
    "# parameters\n",
    "size = 13\n",
    "T=200\n",
    "temperature=0.3\n",
    "epochs_train=20 # set small when debugging\n",
    "epochs_test=15 # set small when debugging\n",
    "\n",
    "# display videos\n",
    "def display_videos(name):\n",
    "    video = io.open(name, 'r+b').read()\n",
    "    encoded = base64.b64encode(video)\n",
    "    return '''<video alt=\"test\" controls>\n",
    "                <source src=\"data:video/mp4;base64,{0}\" type=\"video/mp4\" />\n",
    "             </video>'''.format(encoded.decode('ascii'))"
   ]
  },
  {
   "cell_type": "markdown",
   "metadata": {},
   "source": [
    "__Question 2__ Explain the use of the arrays ```position``` and ```board```."
   ]
  },
  {
   "cell_type": "markdown",
   "metadata": {},
   "source": [
    "> Array $board$ represents the board for a rat and contains cells with associated rewards for different cases (neutral, cheese or the poisonous cell).\n",
    "\n",
    "> Array $position$ contains current position of the rat (1) and also shows borders of the playground (-1). Rest elements of the array are zeroes. Current position changes after the action is taken."
   ]
  },
  {
   "cell_type": "markdown",
   "metadata": {},
   "source": [
    "## Random Agent"
   ]
  },
  {
   "cell_type": "markdown",
   "metadata": {},
   "source": [
    "***\n",
    "__Question 3__ Implement a random Agent (only ```learned_act``` needs to be implemented):"
   ]
  },
  {
   "cell_type": "code",
   "execution_count": 6,
   "metadata": {},
   "outputs": [],
   "source": [
    "class RandomAgent(Agent):\n",
    "    def __init__(self):\n",
    "        super(RandomAgent, self).__init__()\n",
    "        pass\n",
    "\n",
    "    def learned_act(self, s):\n",
    "        # Select random action\n",
    "        return np.random.randint(4)"
   ]
  },
  {
   "cell_type": "markdown",
   "metadata": {},
   "source": [
    "***\n",
    "***\n",
    "__Question 4__ Visualize the game moves. You need to fill in the following function for the evaluation:"
   ]
  },
  {
   "cell_type": "code",
   "execution_count": 7,
   "metadata": {},
   "outputs": [],
   "source": [
    "def test(agent,env,epochs,prefix=''):\n",
    "    # Number of won games\n",
    "    score = 0\n",
    "        \n",
    "    for e in range(epochs):\n",
    "        \n",
    "        state = env.reset()\n",
    "        game_over = False\n",
    "        \n",
    "        win = 0\n",
    "        lose = 0\n",
    "\n",
    "        while not game_over:\n",
    "            action = agent.learned_act(state)\n",
    "            prev_state = state\n",
    "            state, reward, game_over = env.act(action)\n",
    "            \n",
    "            if reward > 0:\n",
    "                win = win + reward\n",
    "            if reward < 0:\n",
    "                lose = lose - reward\n",
    "          \n",
    "        # Save as a mp4\n",
    "        if e%10==0:\n",
    "            env.draw(prefix+str(e))\n",
    "\n",
    "        score = score + win - lose\n",
    "\n",
    "        print(\"Win/lose count {}/{}. Average score ({})\"\n",
    "              .format(win, lose, score/(1+e)))\n",
    "        \n",
    "    print('Final score: '+str(score/epochs))"
   ]
  },
  {
   "cell_type": "code",
   "execution_count": 8,
   "metadata": {},
   "outputs": [
    {
     "name": "stdout",
     "output_type": "stream",
     "text": [
      "Win/lose count 14.0/18.0. Average score (-4.0)\n",
      "Win/lose count 8.5/15.0. Average score (-5.25)\n",
      "Win/lose count 13.0/7.0. Average score (-1.5)\n",
      "Win/lose count 14.0/15.0. Average score (-1.375)\n",
      "Win/lose count 7.0/10.0. Average score (-1.7)\n",
      "Win/lose count 5.5/11.0. Average score (-2.3333333333333335)\n",
      "Win/lose count 12.0/12.0. Average score (-2.0)\n",
      "Win/lose count 14.0/17.0. Average score (-2.125)\n",
      "Win/lose count 6.5/17.0. Average score (-3.0555555555555554)\n",
      "Win/lose count 9.5/14.0. Average score (-3.2)\n",
      "Win/lose count 12.0/21.0. Average score (-3.727272727272727)\n",
      "Win/lose count 3.5/14.0. Average score (-4.291666666666667)\n",
      "Win/lose count 15.5/12.0. Average score (-3.6923076923076925)\n",
      "Win/lose count 8.5/15.0. Average score (-3.892857142857143)\n",
      "Win/lose count 9.0/7.0. Average score (-3.5)\n",
      "Final score: -3.5\n"
     ]
    },
    {
     "data": {
      "text/html": [
       "<video alt=\"test\" controls>\n",
       "                <source src=\"data:video/mp4;base64,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\" type=\"video/mp4\" />\n",
       "             </video>"
      ],
      "text/plain": [
       "<IPython.core.display.HTML object>"
      ]
     },
     "execution_count": 8,
     "metadata": {},
     "output_type": "execute_result"
    }
   ],
   "source": [
    "# Initialize the game\n",
    "env = Environment(grid_size=size, max_time=T,temperature=temperature)\n",
    "\n",
    "# Initialize the agent!\n",
    "agent = RandomAgent()\n",
    "\n",
    "test(agent,env,epochs_test,prefix='random')\n",
    "HTML(display_videos('random0.mp4'))"
   ]
  },
  {
   "cell_type": "markdown",
   "metadata": {},
   "source": [
    "***\n",
    "## DQN"
   ]
  },
  {
   "cell_type": "markdown",
   "metadata": {},
   "source": [
    "Let us assume here that $T=\\infty$.\n",
    "\n",
    "***\n",
    "__Question 5__ Let $\\pi$ be a policy, show that:\n",
    "\n",
    "\\begin{equation*}\n",
    "Q^{\\pi}(s,a)=E_{(s',a')\\sim p(.|s,a)}[r(s,a)+\\gamma Q^{\\pi}(s',a')]\n",
    "\\end{equation*}\n",
    "\n",
    "Then, show that for the optimal policy $\\pi^*$ (we assume its existence), the following holds: \n",
    "\n",
    "\\begin{equation*}\n",
    "Q^{*}(s,a)=E_{s'\\sim \\pi^*(.|s,a)}[r(s,a)+\\gamma\\max_{a'}Q^{*}(s',a')].\n",
    "\\end{equation*}\n",
    "Finally, deduce that a plausible objective is:\n",
    "\n",
    "\\begin{equation*}\n",
    "\\mathcal{L}(\\theta)=E_{s' \\sim \\pi^*(.|s,a)}\\Vert r+\\gamma\\max\\max_{a'}Q(s',a',\\theta)-Q(s,a,\\theta)\\Vert^{2}.\n",
    "\\end{equation*}\n",
    "\n",
    "\n"
   ]
  },
  {
   "cell_type": "markdown",
   "metadata": {},
   "source": [
    "> By definition the action-value function Q returns the expected cumulative reward given action and state:\n",
    "\n",
    "$$ Q^\\pi (s_t, a_t) = E[R_{t+1} + \\gamma R_{t+2} + \\gamma^2 R_{t+3} + ... | s_t, a_t] $$\n",
    "\n",
    "> This can be further transformed:\n",
    "\n",
    "$$ Q^\\pi (s_t, a_t) = E[\\sum^T_{k=0} \\gamma^k R_{t+k+1} | s_t, a_t] = E_{(s',a')\\sim p(.|s,a)}[r(s,a) + \\sum^T_{k=1} \\gamma^k R_{t+k+1} | s_t, a_t] = $$\n",
    "\n",
    "$$ = E_{(s',a')\\sim p(.|s,a)}[r(s,a)+\\gamma Q^{\\pi}(s',a')] $$\n",
    "\n",
    "> This is called Bellman equation.\n",
    "\n",
    "> By definition optimal policy maximizes cumulative reward:\n",
    "\n",
    "$$ Q^* (s_t, a_t) = max_\\pi Q^\\pi (s_t, a_t)$$\n",
    "\n",
    "> Applying Bellman equation to optimal policy: \n",
    "\n",
    "$$ Q^{*}(s,a)=E_{s'\\sim \\pi^*(.|s,a)}[r(s,a)+\\gamma\\max_{a'}Q^{*}(s',a')]$$ \n",
    "\n",
    "> Since with every update of Q-function we seek to be closer to optimal $Q^*$ the objective is defined as minimizing mean-squared error in Q-values:\n",
    "\n",
    "$$ \\mathcal{L}(\\theta) = E||Q*(s,a,\\theta)-Q(s,a,\\theta)||^2 = $$\n",
    "> using Bellman equation instead of $Q^*$:\n",
    "$$ = E_{s'\\sim \\pi^*(.|s,a)} ||r(s,a)+\\gamma\\max_{a'}Q^*(s',a'\\theta)-Q(s,a,\\theta)||^2 = $$\n",
    "> and using definition of optimal policy:\n",
    "$$ E_{s'\\sim \\pi^*(.|s,a)} || r+\\gamma\\max\\max_{a'}Q(s',a',\\theta)-Q(s,a,\\theta) ||^{2} $$"
   ]
  },
  {
   "cell_type": "markdown",
   "metadata": {},
   "source": [
    "***\n",
    "The DQN-learning algorithm relies on these derivations to train the parameters $\\theta$ of a Deep Neural Network:\n",
    "\n",
    "1. At the state $s_t$, select the action $a_t$ with best reward using $Q_t$ and store the results;\n",
    "\n",
    "2. Obtain the new state $s_{t+1}$ from the environment $p$;\n",
    "\n",
    "3. Store $(s_t,a_t,s_{t+1})$;\n",
    "\n",
    "4. Obtain $Q_{t+1}$ by minimizing  $\\mathcal{L}$ from a recovered batch from the previously stored results.\n",
    "\n",
    "***\n",
    "__Question 6__ Implement the class ```Memory``` that stores moves (in a replay buffer) via ```remember``` and provides a ```random_access``` to these. Specify a maximum memory size to avoid side effects. You can for example use a ```list()``` and set by default ```max_memory=100```."
   ]
  },
  {
   "cell_type": "code",
   "execution_count": 9,
   "metadata": {},
   "outputs": [],
   "source": [
    "class Memory(object):\n",
    "    def __init__(self, max_memory=100):\n",
    "        self.max_memory = max_memory\n",
    "        self.memory = list()\n",
    "\n",
    "    def remember(self, m):\n",
    "        # add element to the memory until the buffer is full, after delete first element to add next one\n",
    "        if len(self.memory) < self.max_memory:  \n",
    "            self.memory.append(m)\n",
    "        else:\n",
    "            self.memory = self.memory[1::]\n",
    "            self.memory.append(m)\n",
    "\n",
    "    def random_access(self):\n",
    "        return self.memory[np.random.randint(len(self.memory))]"
   ]
  },
  {
   "cell_type": "markdown",
   "metadata": {},
   "source": [
    "***\n",
    "The pipeline we will use for training is given below:"
   ]
  },
  {
   "cell_type": "code",
   "execution_count": 10,
   "metadata": {},
   "outputs": [],
   "source": [
    "def train(agent,env,epoch,prefix=''):\n",
    "    # Number of won games\n",
    "    score = 0\n",
    "    loss = 0\n",
    "\n",
    "    for e in range(epoch):\n",
    "        # At each epoch, we restart to a fresh game and get the initial state\n",
    "        state = env.reset()\n",
    "        # This assumes that the games will terminate\n",
    "        game_over = False\n",
    "\n",
    "        win = 0\n",
    "        lose = 0\n",
    "\n",
    "        while not game_over:\n",
    "            # The agent performs an action\n",
    "            action = agent.act(state)\n",
    "\n",
    "            # Apply an action to the environment, get the next state, the reward\n",
    "            # and if the games end\n",
    "            prev_state = state\n",
    "            state, reward, game_over = env.act(action)\n",
    "\n",
    "            # Update the counters\n",
    "            if reward > 0:\n",
    "                win = win + reward\n",
    "            if reward < 0:\n",
    "                lose = lose - reward\n",
    "\n",
    "            # Apply the reinforcement strategy\n",
    "            loss = agent.reinforce(prev_state, state,  action, reward, game_over)\n",
    "\n",
    "        # Save as a mp4\n",
    "        if e % 10 == 0:\n",
    "            env.draw(prefix+str(e))\n",
    "\n",
    "        # Update stats\n",
    "        score += win-lose\n",
    "\n",
    "        print(\"Epoch {:03d}/{:03d} | Loss {:.4f} | Win/lose count {}/{} ({})\"\n",
    "              .format(e, epoch, loss, win, lose, win-lose))\n",
    "        agent.save(name_weights=prefix+'model.h5',name_model=prefix+'model.json')"
   ]
  },
  {
   "cell_type": "markdown",
   "metadata": {},
   "source": [
    "***\n",
    "__Question 7__ Implement the DQN training algorithm using a cascade of fully connected layers. You can use different learning rate, batch size or memory size parameters. In particular, the loss might oscillate while the player will start to win the games. You have to find a good criterium."
   ]
  },
  {
   "cell_type": "code",
   "execution_count": 11,
   "metadata": {},
   "outputs": [],
   "source": [
    "class DQN(Agent):\n",
    "    def __init__(self, grid_size,  epsilon = 0.1, memory_size=100, batch_size = 16,n_state=2):\n",
    "        super(DQN, self).__init__(epsilon = epsilon)\n",
    "\n",
    "        # Discount for Q learning\n",
    "        self.discount = 0.99\n",
    "        \n",
    "        self.grid_size = grid_size\n",
    "        \n",
    "        # number of state\n",
    "        self.n_state = n_state\n",
    "\n",
    "        # Memory\n",
    "        self.memory = Memory(memory_size)\n",
    "        \n",
    "        # Batch size when learning\n",
    "        self.batch_size = batch_size\n",
    "\n",
    "    def learned_act(self, s):\n",
    "        return np.argmax(self.model.predict(np.expand_dims(s, 0)))\n",
    "\n",
    "    def reinforce(self, s_, n_s_, a_, r_, game_over_):\n",
    "        # Two steps: first memorize the states, second learn from the pool\n",
    "\n",
    "        self.memory.remember([s_, n_s_, a_, r_, game_over_])\n",
    "        input_states = np.zeros((self.batch_size, 5,5,self.n_state))\n",
    "        target_q = np.zeros((self.batch_size, 4))                                 #Initialize table for Q values \n",
    "                                                                                  # with all zeros\n",
    "        \n",
    "        for i in range(self.batch_size):\n",
    "           \n",
    "            s_, n_s_, a_, r_, game_over_ = self.memory.random_access()            # Get information from memory\n",
    "            input_states[i] = s_                                                  # Set input state\n",
    "            target_q[i] = self.model.predict(np.expand_dims(s_, axis = 0))        # Set target\n",
    "            \n",
    "            if game_over_:\n",
    "                # If game is over ipdate Q with the last reward for action\n",
    "                target_q[i][a_] = r_\n",
    "            \n",
    "            else:\n",
    "                # If game continues update Q with discounted cumulative reward\n",
    "                target_q[i][a_] = r_ + self.discount * np.max(self.model.predict(np.expand_dims(n_s_, 0)))\n",
    "       \n",
    "        # HINT: Clip the target to avoid exploiding gradients.. -- clipping is a bit tighter\n",
    "        target_q = np.clip(target_q, -3, 3)\n",
    "\n",
    "        l = self.model.train_on_batch(input_states, target_q)\n",
    "\n",
    "        return l\n",
    "\n",
    "    def save(self,name_weights='model.h5',name_model='model.json'):\n",
    "        self.model.save_weights(name_weights, overwrite=True)\n",
    "        with open(name_model, \"w\") as outfile:\n",
    "            json.dump(self.model.to_json(), outfile)\n",
    "            \n",
    "    def load(self,name_weights='model.h5',name_model='model.json'):\n",
    "        with open(name_model, \"r\") as jfile:\n",
    "            model = model_from_json(json.load(jfile))\n",
    "        model.load_weights(name_weights)\n",
    "        model.compile(\"sgd\", \"mse\")\n",
    "        self.model = model\n",
    "\n",
    "            \n",
    "class DQN_FC(DQN):\n",
    "    def __init__(self, *args, lr=0.1,**kwargs):\n",
    "        super(DQN_FC, self).__init__( *args,**kwargs)\n",
    "        \n",
    "        # NN Model\n",
    "       \n",
    "        model = Sequential()\n",
    "        model.add(Flatten(input_shape = (5,5, self.n_state)))\n",
    "        model.add(Dense(32, activation = 'relu'))\n",
    "        #model.add(Dense(16, activation = 'relu'))\n",
    "        model.add(Dense(4, activation = \"linear\"))                         # action size\n",
    "        #print(model.summary())        \n",
    "        \n",
    "        model.compile(sgd(lr=lr, decay=1e-4, momentum=0.0), \"mse\")\n",
    "        self.model = model   "
   ]
  },
  {
   "cell_type": "code",
   "execution_count": 12,
   "metadata": {
    "scrolled": false
   },
   "outputs": [
    {
     "name": "stdout",
     "output_type": "stream",
     "text": [
      "Epoch 000/020 | Loss 0.0054 | Win/lose count 6.5/6.0 (0.5)\n",
      "Epoch 001/020 | Loss 0.0074 | Win/lose count 3.5/1.0 (2.5)\n",
      "Epoch 002/020 | Loss 0.0343 | Win/lose count 2.5/2.0 (0.5)\n",
      "Epoch 003/020 | Loss 0.0227 | Win/lose count 3.0/3.0 (0.0)\n",
      "Epoch 004/020 | Loss 0.0160 | Win/lose count 5.5/3.0 (2.5)\n",
      "Epoch 005/020 | Loss 0.0719 | Win/lose count 5.5/4.0 (1.5)\n",
      "Epoch 006/020 | Loss 0.0059 | Win/lose count 3.5/2.0 (1.5)\n",
      "Epoch 007/020 | Loss 0.0078 | Win/lose count 3.0/2.0 (1.0)\n",
      "Epoch 008/020 | Loss 0.0055 | Win/lose count 3.0/1.0 (2.0)\n",
      "Epoch 009/020 | Loss 0.0053 | Win/lose count 3.5/8.0 (-4.5)\n",
      "Epoch 010/020 | Loss 0.0723 | Win/lose count 6.0/10.0 (-4.0)\n",
      "Epoch 011/020 | Loss 0.0035 | Win/lose count 3.0/1.0 (2.0)\n",
      "Epoch 012/020 | Loss 0.0092 | Win/lose count 2.5/1.0 (1.5)\n",
      "Epoch 013/020 | Loss 0.0032 | Win/lose count 3.0/1.0 (2.0)\n",
      "Epoch 014/020 | Loss 0.0018 | Win/lose count 5.5/5.0 (0.5)\n",
      "Epoch 015/020 | Loss 0.0094 | Win/lose count 6.0/2.0 (4.0)\n",
      "Epoch 016/020 | Loss 0.0016 | Win/lose count 4.0/2.0 (2.0)\n",
      "Epoch 017/020 | Loss 0.0087 | Win/lose count 3.0/3.0 (0.0)\n",
      "Epoch 018/020 | Loss 0.0096 | Win/lose count 2.0/3.0 (-1.0)\n",
      "Epoch 019/020 | Loss 0.0605 | Win/lose count 5.5/4.0 (1.5)\n"
     ]
    },
    {
     "data": {
      "text/html": [
       "<video alt=\"test\" controls>\n",
       "                <source src=\"data:video/mp4;base64,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\" type=\"video/mp4\" />\n",
       "             </video>"
      ],
      "text/plain": [
       "<IPython.core.display.HTML object>"
      ]
     },
     "execution_count": 12,
     "metadata": {},
     "output_type": "execute_result"
    }
   ],
   "source": [
    "env = Environment(grid_size=size, max_time=T, temperature=0.3)\n",
    "agent = DQN_FC(size, lr=.1, epsilon = 0.1, memory_size=2000, batch_size = 32)\n",
    "train(agent, env, epochs_train, prefix='fc_train')\n",
    "HTML(display_videos('fc_train10.mp4'))"
   ]
  },
  {
   "cell_type": "markdown",
   "metadata": {},
   "source": [
    "#### Tune parameters"
   ]
  },
  {
   "cell_type": "code",
   "execution_count": 13,
   "metadata": {},
   "outputs": [
    {
     "name": "stdout",
     "output_type": "stream",
     "text": [
      "Epoch 000/020 | Loss 0.0177 | Win/lose count 1.5/7.0 (-5.5)\n",
      "Epoch 001/020 | Loss 0.0052 | Win/lose count 3.0/3.0 (0.0)\n",
      "Epoch 002/020 | Loss 0.0056 | Win/lose count 4.5/4.0 (0.5)\n",
      "Epoch 003/020 | Loss 0.0094 | Win/lose count 4.5/2.0 (2.5)\n",
      "Epoch 004/020 | Loss 0.0168 | Win/lose count 1.5/2.0 (-0.5)\n",
      "Epoch 005/020 | Loss 0.0119 | Win/lose count 5.0/4.0 (1.0)\n",
      "Epoch 006/020 | Loss 0.0100 | Win/lose count 7.0/4.0 (3.0)\n",
      "Epoch 007/020 | Loss 0.0254 | Win/lose count 2.5/4.0 (-1.5)\n",
      "Epoch 008/020 | Loss 0.0102 | Win/lose count 2.5/2.0 (0.5)\n",
      "Epoch 009/020 | Loss 0.0110 | Win/lose count 2.5/1.0 (1.5)\n",
      "Epoch 010/020 | Loss 0.0139 | Win/lose count 2.0/1.0 (1.0)\n",
      "Epoch 011/020 | Loss 0.0251 | Win/lose count 3.5/4.0 (-0.5)\n",
      "Epoch 012/020 | Loss 0.0081 | Win/lose count 4.0/3.0 (1.0)\n",
      "Epoch 013/020 | Loss 0.0478 | Win/lose count 3.0/3.0 (0.0)\n",
      "Epoch 014/020 | Loss 0.0107 | Win/lose count 3.0/1.0 (2.0)\n",
      "Epoch 015/020 | Loss 0.0522 | Win/lose count 2.5/2.0 (0.5)\n",
      "Epoch 016/020 | Loss 0.0094 | Win/lose count 5.0/7.0 (-2.0)\n",
      "Epoch 017/020 | Loss 0.0116 | Win/lose count 5.5/4.0 (1.5)\n",
      "Epoch 018/020 | Loss 0.0086 | Win/lose count 5.5/1.0 (4.5)\n",
      "Epoch 019/020 | Loss 0.0092 | Win/lose count 4.0/3.0 (1.0)\n"
     ]
    }
   ],
   "source": [
    "# Reduce learning rate to 0.05\n",
    "env = Environment(grid_size=size, max_time=T, temperature=0.3)\n",
    "agent = DQN_FC(size, lr=.05, epsilon = 0.1, memory_size=2000, batch_size = 32)\n",
    "train(agent, env, epochs_train, prefix='fc_train')"
   ]
  },
  {
   "cell_type": "code",
   "execution_count": 14,
   "metadata": {},
   "outputs": [
    {
     "name": "stdout",
     "output_type": "stream",
     "text": [
      "Epoch 000/020 | Loss 0.0021 | Win/lose count 3.0/4.0 (-1.0)\n",
      "Epoch 001/020 | Loss 0.0103 | Win/lose count 1.5/2.0 (-0.5)\n",
      "Epoch 002/020 | Loss 0.0162 | Win/lose count 2.0/9.0 (-7.0)\n",
      "Epoch 003/020 | Loss 0.0682 | Win/lose count 2.5/3.0 (-0.5)\n",
      "Epoch 004/020 | Loss 0.0092 | Win/lose count 3.0/4.0 (-1.0)\n",
      "Epoch 005/020 | Loss 0.0694 | Win/lose count 3.5/4.0 (-0.5)\n",
      "Epoch 006/020 | Loss 0.0024 | Win/lose count 1.5/1.0 (0.5)\n",
      "Epoch 007/020 | Loss 0.0111 | Win/lose count 3.5/3.0 (0.5)\n",
      "Epoch 008/020 | Loss 0.0364 | Win/lose count 3.0/3.0 (0.0)\n",
      "Epoch 009/020 | Loss 0.0017 | Win/lose count 2.0/2.0 (0.0)\n",
      "Epoch 010/020 | Loss 0.0014 | Win/lose count 5.0/4.0 (1.0)\n",
      "Epoch 011/020 | Loss 0.0623 | Win/lose count 7.0/1.0 (6.0)\n",
      "Epoch 012/020 | Loss 0.0585 | Win/lose count 5.0/0 (5.0)\n",
      "Epoch 013/020 | Loss 0.0085 | Win/lose count 3.0/1.0 (2.0)\n",
      "Epoch 014/020 | Loss 0.0045 | Win/lose count 3.0/1.0 (2.0)\n",
      "Epoch 015/020 | Loss 0.0042 | Win/lose count 2.0/2.0 (0.0)\n",
      "Epoch 016/020 | Loss 0.0061 | Win/lose count 2.5/4.0 (-1.5)\n",
      "Epoch 017/020 | Loss 0.0022 | Win/lose count 1.0/0 (1.0)\n",
      "Epoch 018/020 | Loss 0.0037 | Win/lose count 5.5/2.0 (3.5)\n",
      "Epoch 019/020 | Loss 0.0060 | Win/lose count 4.5/3.0 (1.5)\n"
     ]
    }
   ],
   "source": [
    "# Increase learning rate to 0.25\n",
    "env = Environment(grid_size=size, max_time=T, temperature=0.3)\n",
    "agent = DQN_FC(size, lr=.25, epsilon = 0.1, memory_size=2000, batch_size = 32)\n",
    "train(agent, env, epochs_train, prefix='fc_train')"
   ]
  },
  {
   "cell_type": "code",
   "execution_count": 15,
   "metadata": {},
   "outputs": [
    {
     "name": "stdout",
     "output_type": "stream",
     "text": [
      "Epoch 000/020 | Loss 0.0121 | Win/lose count 5.5/2.0 (3.5)\n",
      "Epoch 001/020 | Loss 0.0097 | Win/lose count 2.0/3.0 (-1.0)\n",
      "Epoch 002/020 | Loss 0.0560 | Win/lose count 4.5/4.0 (0.5)\n",
      "Epoch 003/020 | Loss 0.0051 | Win/lose count 3.5/2.0 (1.5)\n",
      "Epoch 004/020 | Loss 0.0321 | Win/lose count 4.0/3.0 (1.0)\n",
      "Epoch 005/020 | Loss 0.0045 | Win/lose count 3.0/4.0 (-1.0)\n",
      "Epoch 006/020 | Loss 0.0022 | Win/lose count 4.0/1.0 (3.0)\n",
      "Epoch 007/020 | Loss 0.0145 | Win/lose count 5.0/1.0 (4.0)\n",
      "Epoch 008/020 | Loss 0.0038 | Win/lose count 3.5/0 (3.5)\n",
      "Epoch 009/020 | Loss 0.0077 | Win/lose count 2.0/2.0 (0.0)\n",
      "Epoch 010/020 | Loss 0.0049 | Win/lose count 3.5/2.0 (1.5)\n",
      "Epoch 011/020 | Loss 0.0022 | Win/lose count 2.5/4.0 (-1.5)\n",
      "Epoch 012/020 | Loss 0.0039 | Win/lose count 6.5/5.0 (1.5)\n",
      "Epoch 013/020 | Loss 0.0064 | Win/lose count 5.0/2.0 (3.0)\n",
      "Epoch 014/020 | Loss 0.0045 | Win/lose count 5.0/2.0 (3.0)\n",
      "Epoch 015/020 | Loss 0.0058 | Win/lose count 3.0/0 (3.0)\n",
      "Epoch 016/020 | Loss 0.0110 | Win/lose count 2.5/3.0 (-0.5)\n",
      "Epoch 017/020 | Loss 0.0036 | Win/lose count 2.0/3.0 (-1.0)\n",
      "Epoch 018/020 | Loss 0.0040 | Win/lose count 2.5/0 (2.5)\n",
      "Epoch 019/020 | Loss 0.0033 | Win/lose count 5.5/2.0 (3.5)\n"
     ]
    }
   ],
   "source": [
    "# Increase batch size to 50\n",
    "env = Environment(grid_size=size, max_time=T, temperature=0.3)\n",
    "agent = DQN_FC(size, lr=.1, epsilon = 0.1, memory_size=2000, batch_size = 50)\n",
    "train(agent, env, epochs_train, prefix='fc_train')"
   ]
  },
  {
   "cell_type": "code",
   "execution_count": 16,
   "metadata": {},
   "outputs": [
    {
     "name": "stdout",
     "output_type": "stream",
     "text": [
      "Epoch 000/020 | Loss 0.0172 | Win/lose count 3.5/2.0 (1.5)\n",
      "Epoch 001/020 | Loss 0.0224 | Win/lose count 2.0/2.0 (0.0)\n",
      "Epoch 002/020 | Loss 0.0072 | Win/lose count 2.0/5.0 (-3.0)\n",
      "Epoch 003/020 | Loss 0.0467 | Win/lose count 6.5/2.0 (4.5)\n",
      "Epoch 004/020 | Loss 0.0074 | Win/lose count 2.0/8.0 (-6.0)\n",
      "Epoch 005/020 | Loss 0.0025 | Win/lose count 5.0/9.0 (-4.0)\n",
      "Epoch 006/020 | Loss 0.0032 | Win/lose count 1.5/4.0 (-2.5)\n",
      "Epoch 007/020 | Loss 0.0066 | Win/lose count 3.0/2.0 (1.0)\n",
      "Epoch 008/020 | Loss 0.0049 | Win/lose count 2.0/6.0 (-4.0)\n",
      "Epoch 009/020 | Loss 0.0126 | Win/lose count 3.0/1.0 (2.0)\n",
      "Epoch 010/020 | Loss 0.0077 | Win/lose count 4.5/3.0 (1.5)\n",
      "Epoch 011/020 | Loss 0.1145 | Win/lose count 1.0/2.0 (-1.0)\n",
      "Epoch 012/020 | Loss 0.0180 | Win/lose count 3.5/1.0 (2.5)\n",
      "Epoch 013/020 | Loss 0.0053 | Win/lose count 3.0/2.0 (1.0)\n",
      "Epoch 014/020 | Loss 0.0065 | Win/lose count 0.5/3.0 (-2.5)\n",
      "Epoch 015/020 | Loss 0.0054 | Win/lose count 1.5/3.0 (-1.5)\n",
      "Epoch 016/020 | Loss 0.0089 | Win/lose count 5.0/4.0 (1.0)\n",
      "Epoch 017/020 | Loss 0.0582 | Win/lose count 2.0/2.0 (0.0)\n",
      "Epoch 018/020 | Loss 0.0590 | Win/lose count 2.5/1.0 (1.5)\n",
      "Epoch 019/020 | Loss 0.0058 | Win/lose count 3.5/5.0 (-1.5)\n"
     ]
    }
   ],
   "source": [
    "# Increase memory size to 3000\n",
    "env = Environment(grid_size=size, max_time=T, temperature=0.3)\n",
    "agent = DQN_FC(size, lr=.1, epsilon = 0.1, memory_size=3000, batch_size = 32)\n",
    "train(agent, env, epochs_train, prefix='fc_train')"
   ]
  },
  {
   "cell_type": "code",
   "execution_count": 17,
   "metadata": {},
   "outputs": [
    {
     "name": "stdout",
     "output_type": "stream",
     "text": [
      "Epoch 000/020 | Loss 0.0162 | Win/lose count 5.0/8.0 (-3.0)\n",
      "Epoch 001/020 | Loss 0.0279 | Win/lose count 4.0/6.0 (-2.0)\n",
      "Epoch 002/020 | Loss 0.0071 | Win/lose count 4.0/1.0 (3.0)\n",
      "Epoch 003/020 | Loss 0.0030 | Win/lose count 5.0/1.0 (4.0)\n",
      "Epoch 004/020 | Loss 0.0587 | Win/lose count 4.5/1.0 (3.5)\n",
      "Epoch 005/020 | Loss 0.0095 | Win/lose count 2.0/1.0 (1.0)\n",
      "Epoch 006/020 | Loss 0.0039 | Win/lose count 1.5/3.0 (-1.5)\n",
      "Epoch 007/020 | Loss 0.0028 | Win/lose count 4.0/6.0 (-2.0)\n",
      "Epoch 008/020 | Loss 0.0185 | Win/lose count 4.5/7.0 (-2.5)\n",
      "Epoch 009/020 | Loss 0.0064 | Win/lose count 2.5/3.0 (-0.5)\n",
      "Epoch 010/020 | Loss 0.0075 | Win/lose count 3.5/3.0 (0.5)\n",
      "Epoch 011/020 | Loss 0.0019 | Win/lose count 5.0/2.0 (3.0)\n",
      "Epoch 012/020 | Loss 0.0025 | Win/lose count 3.0/4.0 (-1.0)\n",
      "Epoch 013/020 | Loss 0.0057 | Win/lose count 4.5/6.0 (-1.5)\n",
      "Epoch 014/020 | Loss 0.0071 | Win/lose count 3.5/4.0 (-0.5)\n",
      "Epoch 015/020 | Loss 0.0077 | Win/lose count 3.0/4.0 (-1.0)\n",
      "Epoch 016/020 | Loss 0.0085 | Win/lose count 2.0/1.0 (1.0)\n",
      "Epoch 017/020 | Loss 0.0067 | Win/lose count 6.0/7.0 (-1.0)\n",
      "Epoch 018/020 | Loss 0.0068 | Win/lose count 4.5/4.0 (0.5)\n",
      "Epoch 019/020 | Loss 0.0094 | Win/lose count 7.0/5.0 (2.0)\n"
     ]
    }
   ],
   "source": [
    "# Decrease memory size to 1000\n",
    "env = Environment(grid_size=size, max_time=T, temperature=0.3)\n",
    "agent = DQN_FC(size, lr=.1, epsilon = 0.1, memory_size=1000, batch_size = 32)\n",
    "train(agent, env, epochs_train, prefix='fc_train')"
   ]
  },
  {
   "cell_type": "markdown",
   "metadata": {},
   "source": [
    "> Observations: \n",
    " - loss oscillates: it tends to decrease but there are some spikes\n",
    " - increasing butch size and memory size can improve the performance (opposite is also true)\n",
    " - increasing learning rate doesn't increase performance.\n",
    " \n",
    "> Best results were given by model with following parameters: lr=.1, memory_size=2000, batch_size = 50."
   ]
  },
  {
   "cell_type": "markdown",
   "metadata": {},
   "source": [
    "***\n",
    "***\n",
    "__Question 8__ Implement the DQN training algorithm using a CNN (for example, 2 convolutional layers and one final fully connected layer)."
   ]
  },
  {
   "cell_type": "code",
   "execution_count": 18,
   "metadata": {},
   "outputs": [],
   "source": [
    "class DQN_CNN(DQN):\n",
    "    def __init__(self, *args,lr=0.1,**kwargs):\n",
    "        super(DQN_CNN, self).__init__(*args,**kwargs)\n",
    "        \n",
    "        model = Sequential()\n",
    "        model.add(Conv2D(32, (3, 3), activation= 'relu' ,input_shape=(5, 5, self.n_state)))\n",
    "        model.add(Conv2D(32, (3, 3), activation= 'relu'))\n",
    "        model.add(Flatten())\n",
    "        #model.add(Dense(16, activation = 'relu'))\n",
    "        model.add(Dense(4, activation='softmax'))\n",
    "        #print(model.summary())    \n",
    "        \n",
    "        model.compile(sgd(lr=lr, decay=1e-4, momentum=0.0), \"mse\")\n",
    "        self.model = model"
   ]
  },
  {
   "cell_type": "code",
   "execution_count": 19,
   "metadata": {
    "scrolled": false
   },
   "outputs": [
    {
     "name": "stdout",
     "output_type": "stream",
     "text": [
      "Epoch 000/020 | Loss 0.0022 | Win/lose count 4.0/1.0 (3.0)\n",
      "Epoch 001/020 | Loss 0.0018 | Win/lose count 1.5/4.0 (-2.5)\n",
      "Epoch 002/020 | Loss 0.0084 | Win/lose count 3.5/6.0 (-2.5)\n",
      "Epoch 003/020 | Loss 0.0040 | Win/lose count 5.0/8.0 (-3.0)\n",
      "Epoch 004/020 | Loss 0.0000 | Win/lose count 6.5/3.0 (3.5)\n",
      "Epoch 005/020 | Loss 0.0094 | Win/lose count 8.0/6.0 (2.0)\n",
      "Epoch 006/020 | Loss 0.0092 | Win/lose count 2.0/5.0 (-3.0)\n",
      "Epoch 007/020 | Loss 0.0175 | Win/lose count 4.5/2.0 (2.5)\n",
      "Epoch 008/020 | Loss 0.0097 | Win/lose count 6.0/1.0 (5.0)\n",
      "Epoch 009/020 | Loss 0.0042 | Win/lose count 4.0/1.0 (3.0)\n",
      "Epoch 010/020 | Loss 0.0133 | Win/lose count 3.5/5.0 (-1.5)\n",
      "Epoch 011/020 | Loss 0.0002 | Win/lose count 4.5/1.0 (3.5)\n",
      "Epoch 012/020 | Loss 0.0058 | Win/lose count 4.0/6.0 (-2.0)\n",
      "Epoch 013/020 | Loss 0.0037 | Win/lose count 1.0/5.0 (-4.0)\n",
      "Epoch 014/020 | Loss 0.0001 | Win/lose count 3.5/4.0 (-0.5)\n",
      "Epoch 015/020 | Loss 0.0091 | Win/lose count 1.5/0 (1.5)\n",
      "Epoch 016/020 | Loss 0.0197 | Win/lose count 4.5/4.0 (0.5)\n",
      "Epoch 017/020 | Loss 0.0095 | Win/lose count 2.0/3.0 (-1.0)\n",
      "Epoch 018/020 | Loss 0.0027 | Win/lose count 3.0/4.0 (-1.0)\n",
      "Epoch 019/020 | Loss 0.0020 | Win/lose count 3.0/4.0 (-1.0)\n"
     ]
    },
    {
     "data": {
      "text/html": [
       "<video alt=\"test\" controls>\n",
       "                <source src=\"data:video/mp4;base64,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\" type=\"video/mp4\" />\n",
       "             </video>"
      ],
      "text/plain": [
       "<IPython.core.display.HTML object>"
      ]
     },
     "execution_count": 19,
     "metadata": {},
     "output_type": "execute_result"
    }
   ],
   "source": [
    "env = Environment(grid_size=size, max_time=T, temperature=0.3)\n",
    "agent = DQN_CNN(size, lr=.1, epsilon = 0.1, memory_size=2000, batch_size = 32)\n",
    "train(agent,env,epochs_train,prefix='cnn_train')\n",
    "HTML(display_videos('cnn_train10.mp4'))"
   ]
  },
  {
   "cell_type": "markdown",
   "metadata": {},
   "source": [
    "***\n",
    "***\n",
    "__Question 9__ Test both algorithms and compare their performances. Which issue(s) do you observe? Observe also different behaviors by changing the temperature."
   ]
  },
  {
   "cell_type": "code",
   "execution_count": 20,
   "metadata": {},
   "outputs": [
    {
     "name": "stdout",
     "output_type": "stream",
     "text": [
      "Test of the CNN\n",
      "Win/lose count 1.5/0. Average score (1.5)\n",
      "Win/lose count 1.5/1.0. Average score (1.0)\n",
      "Win/lose count 2.5/4.0. Average score (0.16666666666666666)\n",
      "Win/lose count 3.0/0. Average score (0.875)\n",
      "Win/lose count 0.5/0. Average score (0.8)\n",
      "Win/lose count 3.5/1.0. Average score (1.0833333333333333)\n",
      "Win/lose count 1.0/0. Average score (1.0714285714285714)\n",
      "Win/lose count 3.0/0. Average score (1.3125)\n",
      "Win/lose count 4.0/0. Average score (1.6111111111111112)\n",
      "Win/lose count 1.5/0. Average score (1.6)\n",
      "Win/lose count 5.0/0. Average score (1.9090909090909092)\n",
      "Win/lose count 1.5/2.0. Average score (1.7083333333333333)\n",
      "Win/lose count 1.0/0. Average score (1.6538461538461537)\n",
      "Win/lose count 4.5/2.0. Average score (1.7142857142857142)\n",
      "Win/lose count 1.5/0. Average score (1.7)\n",
      "Final score: 1.7\n",
      "Test of the FC\n",
      "Win/lose count 2.5/0. Average score (2.5)\n",
      "Win/lose count 4.0/0. Average score (3.25)\n",
      "Win/lose count 0/0. Average score (2.1666666666666665)\n",
      "Win/lose count 1.5/0. Average score (2.0)\n",
      "Win/lose count 0/0. Average score (1.6)\n",
      "Win/lose count 1.0/0. Average score (1.5)\n",
      "Win/lose count 3.0/1.0. Average score (1.5714285714285714)\n",
      "Win/lose count 1.0/0. Average score (1.5)\n",
      "Win/lose count 8.0/1.0. Average score (2.111111111111111)\n",
      "Win/lose count 0.5/0. Average score (1.95)\n",
      "Win/lose count 1.0/0. Average score (1.8636363636363635)\n",
      "Win/lose count 2.5/1.0. Average score (1.8333333333333333)\n",
      "Win/lose count 2.0/1.0. Average score (1.7692307692307692)\n",
      "Win/lose count 0/0. Average score (1.6428571428571428)\n",
      "Win/lose count 0.5/0. Average score (1.5666666666666667)\n",
      "Final score: 1.5666666666666667\n"
     ]
    }
   ],
   "source": [
    "env = Environment(grid_size=size, max_time=T,temperature=0.3)\n",
    "agent_cnn = DQN_CNN(size, lr=.1, epsilon = 0.1, memory_size=2000, batch_size = 32)\n",
    "agent_cnn.load(name_weights='cnn_trainmodel.h5',name_model='cnn_trainmodel.json')\n",
    "\n",
    "agent_fc = DQN_FC(size, lr=.1, epsilon = 0.1, memory_size=2000, batch_size = 32)\n",
    "agent_fc.load(name_weights='fc_trainmodel.h5',name_model='fc_trainmodel.json')\n",
    "print('Test of the CNN')\n",
    "test(agent_cnn,env,epochs_test,prefix='cnn_test')\n",
    "print('Test of the FC')\n",
    "test(agent_fc,env,epochs_test,prefix='fc_test')"
   ]
  },
  {
   "cell_type": "code",
   "execution_count": 21,
   "metadata": {},
   "outputs": [
    {
     "data": {
      "text/html": [
       "<video alt=\"test\" controls>\n",
       "                <source src=\"data:video/mp4;base64,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\" type=\"video/mp4\" />\n",
       "             </video>"
      ],
      "text/plain": [
       "<IPython.core.display.HTML object>"
      ]
     },
     "execution_count": 21,
     "metadata": {},
     "output_type": "execute_result"
    }
   ],
   "source": [
    "HTML(display_videos('cnn_test10.mp4'))"
   ]
  },
  {
   "cell_type": "code",
   "execution_count": 22,
   "metadata": {},
   "outputs": [
    {
     "data": {
      "text/html": [
       "<video alt=\"test\" controls>\n",
       "                <source src=\"data:video/mp4;base64,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\" type=\"video/mp4\" />\n",
       "             </video>"
      ],
      "text/plain": [
       "<IPython.core.display.HTML object>"
      ]
     },
     "execution_count": 22,
     "metadata": {},
     "output_type": "execute_result"
    }
   ],
   "source": [
    "HTML(display_videos('fc_test10.mp4'))"
   ]
  },
  {
   "cell_type": "markdown",
   "metadata": {},
   "source": [
    "> Observations:\n",
    " - In general CNN performes better then FC network.\n",
    " - Agent mostly moves around its current position when there are no more \"food\". Rat prefers to go to empty cell rather than eat poision"
   ]
  },
  {
   "cell_type": "markdown",
   "metadata": {},
   "source": [
    "#### Experiments with temperature"
   ]
  },
  {
   "cell_type": "code",
   "execution_count": 23,
   "metadata": {},
   "outputs": [
    {
     "name": "stdout",
     "output_type": "stream",
     "text": [
      "temperature = 0.1\n",
      "Test of the CNN\n",
      "Win/lose count 0.5/0. Average score (0.5)\n",
      "Win/lose count 2.0/1.0. Average score (0.75)\n",
      "Win/lose count 0.5/0. Average score (0.6666666666666666)\n",
      "Win/lose count 2.5/0. Average score (1.125)\n",
      "Win/lose count 0.5/1.0. Average score (0.8)\n",
      "Win/lose count 2.0/0. Average score (1.0)\n",
      "Win/lose count 1.5/0. Average score (1.0714285714285714)\n",
      "Win/lose count 0.5/0. Average score (1.0)\n",
      "Win/lose count 1.0/1.0. Average score (0.8888888888888888)\n",
      "Win/lose count 0.5/0. Average score (0.85)\n",
      "Win/lose count 1.0/0. Average score (0.8636363636363636)\n",
      "Win/lose count 1.0/0. Average score (0.875)\n",
      "Win/lose count 0/1.0. Average score (0.7307692307692307)\n",
      "Win/lose count 0.5/0. Average score (0.7142857142857143)\n",
      "Win/lose count 0.5/0. Average score (0.7)\n",
      "Final score: 0.7\n",
      "Test of the FC\n",
      "Win/lose count 0.5/0. Average score (0.5)\n",
      "Win/lose count 0/0. Average score (0.25)\n",
      "Win/lose count 0/0. Average score (0.16666666666666666)\n",
      "Win/lose count 1.0/0. Average score (0.375)\n",
      "Win/lose count 1.5/0. Average score (0.6)\n",
      "Win/lose count 1.0/0. Average score (0.6666666666666666)\n",
      "Win/lose count 0.5/0. Average score (0.6428571428571429)\n",
      "Win/lose count 0/0. Average score (0.5625)\n",
      "Win/lose count 1.0/1.0. Average score (0.5)\n",
      "Win/lose count 0.5/0. Average score (0.5)\n",
      "Win/lose count 1.0/0. Average score (0.5454545454545454)\n",
      "Win/lose count 0/0. Average score (0.5)\n",
      "Win/lose count 0.5/0. Average score (0.5)\n",
      "Win/lose count 0/0. Average score (0.4642857142857143)\n",
      "Win/lose count 0.5/0. Average score (0.4666666666666667)\n",
      "Final score: 0.4666666666666667\n",
      "temperature = 0.3\n",
      "Test of the CNN\n",
      "Win/lose count 4.0/0. Average score (4.0)\n",
      "Win/lose count 1.0/1.0. Average score (2.0)\n",
      "Win/lose count 2.5/1.0. Average score (1.8333333333333333)\n",
      "Win/lose count 3.5/0. Average score (2.25)\n",
      "Win/lose count 4.0/0. Average score (2.6)\n",
      "Win/lose count 2.0/1.0. Average score (2.3333333333333335)\n",
      "Win/lose count 5.5/1.0. Average score (2.642857142857143)\n",
      "Win/lose count 1.0/2.0. Average score (2.1875)\n",
      "Win/lose count 2.5/1.0. Average score (2.111111111111111)\n",
      "Win/lose count 5.0/1.0. Average score (2.3)\n",
      "Win/lose count 2.5/0. Average score (2.3181818181818183)\n",
      "Win/lose count 1.5/2.0. Average score (2.0833333333333335)\n",
      "Win/lose count 4.5/1.0. Average score (2.1923076923076925)\n",
      "Win/lose count 1.5/1.0. Average score (2.0714285714285716)\n",
      "Win/lose count 3.0/2.0. Average score (2.0)\n",
      "Final score: 2.0\n",
      "Test of the FC\n",
      "Win/lose count 0.5/0. Average score (0.5)\n",
      "Win/lose count 0/0. Average score (0.25)\n",
      "Win/lose count 0/0. Average score (0.16666666666666666)\n",
      "Win/lose count 2.0/0. Average score (0.625)\n",
      "Win/lose count 0.5/0. Average score (0.6)\n",
      "Win/lose count 1.0/0. Average score (0.6666666666666666)\n",
      "Win/lose count 2.0/0. Average score (0.8571428571428571)\n",
      "Win/lose count 0/0. Average score (0.75)\n",
      "Win/lose count 1.0/0. Average score (0.7777777777777778)\n",
      "Win/lose count 1.0/1.0. Average score (0.7)\n",
      "Win/lose count 1.0/0. Average score (0.7272727272727273)\n",
      "Win/lose count 1.0/0. Average score (0.75)\n",
      "Win/lose count 1.5/0. Average score (0.8076923076923077)\n",
      "Win/lose count 1.0/0. Average score (0.8214285714285714)\n",
      "Win/lose count 3.0/0. Average score (0.9666666666666667)\n",
      "Final score: 0.9666666666666667\n",
      "temperature = 0.5\n",
      "Test of the CNN\n",
      "Win/lose count 1.0/0. Average score (1.0)\n",
      "Win/lose count 1.0/0. Average score (1.0)\n",
      "Win/lose count 6.5/0. Average score (2.8333333333333335)\n",
      "Win/lose count 7.0/1.0. Average score (3.625)\n",
      "Win/lose count 2.0/0. Average score (3.3)\n",
      "Win/lose count 2.0/0. Average score (3.0833333333333335)\n",
      "Win/lose count 4.0/0. Average score (3.2142857142857144)\n",
      "Win/lose count 5.5/1.0. Average score (3.375)\n",
      "Win/lose count 5.5/2.0. Average score (3.388888888888889)\n",
      "Win/lose count 4.0/0. Average score (3.45)\n",
      "Win/lose count 3.5/0. Average score (3.4545454545454546)\n",
      "Win/lose count 1.5/0. Average score (3.2916666666666665)\n",
      "Win/lose count 5.5/1.0. Average score (3.3846153846153846)\n",
      "Win/lose count 6.0/1.0. Average score (3.5)\n",
      "Win/lose count 1.0/2.0. Average score (3.2)\n",
      "Final score: 3.2\n",
      "Test of the FC\n",
      "Win/lose count 2.5/2.0. Average score (0.5)\n",
      "Win/lose count 0.5/2.0. Average score (-0.5)\n",
      "Win/lose count 1.5/0. Average score (0.16666666666666666)\n",
      "Win/lose count 2.0/1.0. Average score (0.375)\n",
      "Win/lose count 0.5/0. Average score (0.4)\n",
      "Win/lose count 0/0. Average score (0.3333333333333333)\n",
      "Win/lose count 0/0. Average score (0.2857142857142857)\n",
      "Win/lose count 4.0/0. Average score (0.75)\n",
      "Win/lose count 2.0/0. Average score (0.8888888888888888)\n",
      "Win/lose count 2.0/0. Average score (1.0)\n",
      "Win/lose count 6.0/2.0. Average score (1.2727272727272727)\n",
      "Win/lose count 2.5/1.0. Average score (1.2916666666666667)\n",
      "Win/lose count 0/0. Average score (1.1923076923076923)\n",
      "Win/lose count 2.0/0. Average score (1.25)\n",
      "Win/lose count 5.0/0. Average score (1.5)\n",
      "Final score: 1.5\n",
      "temperature = 0.7\n",
      "Test of the CNN\n",
      "Win/lose count 1.5/0. Average score (1.5)\n",
      "Win/lose count 3.5/0. Average score (2.5)\n",
      "Win/lose count 6.0/2.0. Average score (3.0)\n",
      "Win/lose count 8.5/1.0. Average score (4.125)\n",
      "Win/lose count 7.5/1.0. Average score (4.6)\n",
      "Win/lose count 8.0/0. Average score (5.166666666666667)\n",
      "Win/lose count 1.5/2.0. Average score (4.357142857142857)\n",
      "Win/lose count 7.0/0. Average score (4.6875)\n",
      "Win/lose count 10.5/0. Average score (5.333333333333333)\n",
      "Win/lose count 7.5/1.0. Average score (5.45)\n",
      "Win/lose count 5.5/3.0. Average score (5.181818181818182)\n",
      "Win/lose count 3.0/1.0. Average score (4.916666666666667)\n",
      "Win/lose count 3.0/0. Average score (4.769230769230769)\n",
      "Win/lose count 3.5/1.0. Average score (4.607142857142857)\n",
      "Win/lose count 4.5/0. Average score (4.6)\n",
      "Final score: 4.6\n",
      "Test of the FC\n",
      "Win/lose count 6.0/1.0. Average score (5.0)\n",
      "Win/lose count 1.0/0. Average score (3.0)\n",
      "Win/lose count 5.5/1.0. Average score (3.5)\n",
      "Win/lose count 7.0/1.0. Average score (4.125)\n",
      "Win/lose count 2.0/1.0. Average score (3.5)\n",
      "Win/lose count 3.0/1.0. Average score (3.25)\n",
      "Win/lose count 4.0/1.0. Average score (3.2142857142857144)\n",
      "Win/lose count 2.0/1.0. Average score (2.9375)\n",
      "Win/lose count 0.5/0. Average score (2.6666666666666665)\n",
      "Win/lose count 13.0/2.0. Average score (3.5)\n",
      "Win/lose count 0.5/1.0. Average score (3.1363636363636362)\n",
      "Win/lose count 0.5/0. Average score (2.9166666666666665)\n",
      "Win/lose count 1.0/0. Average score (2.769230769230769)\n",
      "Win/lose count 2.5/0. Average score (2.75)\n",
      "Win/lose count 6.5/1.0. Average score (2.933333333333333)\n",
      "Final score: 2.933333333333333\n",
      "temperature = 0.9\n",
      "Test of the CNN\n",
      "Win/lose count 9.5/0. Average score (9.5)\n",
      "Win/lose count 8.0/1.0. Average score (8.25)\n",
      "Win/lose count 6.0/1.0. Average score (7.166666666666667)\n",
      "Win/lose count 6.5/0. Average score (7.0)\n",
      "Win/lose count 4.5/0. Average score (6.5)\n",
      "Win/lose count 1.0/0. Average score (5.583333333333333)\n",
      "Win/lose count 5.5/0. Average score (5.571428571428571)\n",
      "Win/lose count 6.5/2.0. Average score (5.4375)\n",
      "Win/lose count 8.0/0. Average score (5.722222222222222)\n",
      "Win/lose count 9.0/0. Average score (6.05)\n",
      "Win/lose count 5.5/0. Average score (6.0)\n",
      "Win/lose count 7.0/0. Average score (6.083333333333333)\n",
      "Win/lose count 2.0/0. Average score (5.769230769230769)\n",
      "Win/lose count 1.5/0. Average score (5.464285714285714)\n",
      "Win/lose count 8.5/0. Average score (5.666666666666667)\n",
      "Final score: 5.666666666666667\n",
      "Test of the FC\n",
      "Win/lose count 21.5/2.0. Average score (19.5)\n",
      "Win/lose count 14.0/0. Average score (16.75)\n",
      "Win/lose count 5.0/0. Average score (12.833333333333334)\n",
      "Win/lose count 0.5/0. Average score (9.75)\n",
      "Win/lose count 13.0/0. Average score (10.4)\n",
      "Win/lose count 0.5/0. Average score (8.75)\n",
      "Win/lose count 8.0/0. Average score (8.642857142857142)\n",
      "Win/lose count 5.5/0. Average score (8.25)\n",
      "Win/lose count 13.0/0. Average score (8.777777777777779)\n",
      "Win/lose count 10.0/0. Average score (8.9)\n",
      "Win/lose count 6.5/0. Average score (8.681818181818182)\n",
      "Win/lose count 2.0/0. Average score (8.125)\n",
      "Win/lose count 3.5/0. Average score (7.769230769230769)\n",
      "Win/lose count 14.0/0. Average score (8.214285714285714)\n",
      "Win/lose count 1.0/0. Average score (7.733333333333333)\n",
      "Final score: 7.733333333333333\n"
     ]
    }
   ],
   "source": [
    "temp_test = [0.1, 0.3, 0.5, 0.7, 0.9]\n",
    "for temp in temp_test:\n",
    "    print ('temperature =', temp)\n",
    "   \n",
    "    env = Environment(grid_size=size, max_time=T,temperature=temp)\n",
    "    agent_cnn = DQN_CNN(size, lr=.1, epsilon = 0.1, memory_size=2000, batch_size = 32)\n",
    "    agent_cnn.load(name_weights='cnn_trainmodel.h5',name_model='cnn_trainmodel.json')\n",
    "\n",
    "    agent_fc = DQN_FC(size, lr=.1, epsilon = 0.1, memory_size=2000, batch_size = 32)\n",
    "    agent_fc.load(name_weights='fc_trainmodel.h5',name_model='fc_trainmodel.json')\n",
    "    print('Test of the CNN')\n",
    "    test(agent_cnn,env,epochs_test,prefix='cnn_test')\n",
    "    print('Test of the FC')\n",
    "    test(agent_fc,env,epochs_test,prefix='fc_test')"
   ]
  },
  {
   "cell_type": "markdown",
   "metadata": {},
   "source": [
    "> Observations:\n",
    "- Increasing temperature generally improves performance. But increase in the score happens due to increase in probability of a \"cheese\" cell rather than poisonious cells\n",
    "- CNN is more sensitive to changes in temperature showing increase in score. However, with high temperature 1-layer FC outperformes CNN.   \n",
    "\n",
    "\n",
    "> | Temperature  |  0.1  |  0.3  |  0.5  |  0.7  |  0.9 |\n",
    "  |--------------|-------|-------|-------|-------|------|\n",
    "  | CNN          |  0.7  |  2.0  |  3.2  |  4.6  |  5.6 |\n",
    "  | FC           |  0.5  |  1.0  |  1.5  |  2.9  |  7.7 |\n"
   ]
  },
  {
   "cell_type": "markdown",
   "metadata": {},
   "source": [
    "***\n",
    "\n",
    "The algorithm tends to not explore the map which can be an issue. We propose two ideas in order to encourage exploration:\n",
    "1. Incorporating a decreasing $\\epsilon$-greedy exploration. You can use the method ```set_epsilon```\n",
    "2. Append via the environment a new state that describes if a cell has been visited or not\n",
    "\n",
    "***\n",
    "__Question 10__ Design a new ```train_explore``` function and environment class ```EnvironmentExploring``` to tackle the issue of exploration.\n",
    "\n"
   ]
  },
  {
   "cell_type": "code",
   "execution_count": 24,
   "metadata": {},
   "outputs": [],
   "source": [
    "def train_explore(agent, env, epoch, decay_rate = 0.96, prefix=''):\n",
    "    # Number of won games\n",
    "    score = 0\n",
    "    loss = 0\n",
    "\n",
    "    for e in range(epoch):\n",
    "        # At each epoch, we restart to a fresh game and get the initial state\n",
    "        state = env.reset()\n",
    "        # This assumes that the games will terminate\n",
    "        game_over = False\n",
    "\n",
    "        win = 0\n",
    "        lose = 0\n",
    "        \n",
    "        agent.set_epsilon(decay_rate*agent.epsilon)  # epsilon will decrease by decay rate\n",
    "        \n",
    "        while not game_over:\n",
    "            # The agent performs an action\n",
    "            action = agent.act(state)\n",
    "\n",
    "            # Apply an action to the environment, get the next state, the reward\n",
    "            # and if the games end\n",
    "            prev_state = state\n",
    "            state, reward, game_over = env.act(action, train = True)\n",
    "\n",
    "            # Update the counters\n",
    "            if reward > 0:\n",
    "                win = win + reward\n",
    "            if reward < 0:\n",
    "                lose = lose -reward\n",
    "\n",
    "            # Apply the reinforcement strategy\n",
    "            loss = agent.reinforce(prev_state, state,  action, reward, game_over)\n",
    "\n",
    "        # Save as a mp4\n",
    "        if e % 10 == 0:\n",
    "            env.draw(prefix+str(e))\n",
    "\n",
    "        # Update stats\n",
    "        score += win-lose\n",
    "\n",
    "        print(\"Epoch {:03d}/{:03d} | Loss {:.4f} | Win/lose count {}/{} ({})\"\n",
    "              .format(e, epoch, loss, win, lose, win-lose))\n",
    "        agent.save(name_weights=prefix+'model.h5',name_model=prefix+'model.json')\n",
    "\n",
    "        \n",
    "class EnvironmentExploring(object):\n",
    "    def __init__(self, grid_size=10, max_time=500, temperature=0.1):\n",
    "        grid_size = grid_size+4\n",
    "        self.grid_size = grid_size\n",
    "        self.max_time = max_time\n",
    "        self.temperature = temperature\n",
    "\n",
    "        #board on which one plays\n",
    "        self.board = np.zeros((grid_size,grid_size))\n",
    "        self.position = np.zeros((grid_size,grid_size))\n",
    "        self.malus_position = np.zeros((grid_size,grid_size))   # add for previously visited position\n",
    "\n",
    "        # coordinate of the rat\n",
    "        self.x = 0\n",
    "        self.y = 1\n",
    "\n",
    "        # self time\n",
    "        self.t = 0\n",
    "\n",
    "        self.scale=16\n",
    "\n",
    "        self.to_draw = np.zeros((max_time+2, grid_size*self.scale, grid_size*self.scale, 3))\n",
    "\n",
    "\n",
    "    def draw(self,e):\n",
    "        skvideo.io.vwrite(str(e) + '.mp4', self.to_draw)\n",
    "\n",
    "    def get_frame(self,t):\n",
    "        b = np.zeros((self.grid_size,self.grid_size,3))+128\n",
    "        b[self.board>0,0] = 256\n",
    "        b[self.board < 0, 2] = 256\n",
    "        b[self.x,self.y,:]=256\n",
    "        b[-2:,:,:]=0\n",
    "        b[:,-2:,:]=0\n",
    "        b[:2,:,:]=0\n",
    "        b[:,:2,:]=0\n",
    "        \n",
    "        b =  cv2.resize(b, None, fx=self.scale, fy=self.scale, interpolation=cv2.INTER_NEAREST)\n",
    "\n",
    "        self.to_draw[t,:,:,:]=b\n",
    "\n",
    "\n",
    "    def act(self, action, train = False):\n",
    "        \"\"\"This function returns the new state, reward and decides if the\n",
    "        game ends.\"\"\"\n",
    "\n",
    "        self.get_frame(int(self.t))\n",
    "\n",
    "        self.position = np.zeros((self.grid_size, self.grid_size))\n",
    "\n",
    "        self.position[0:2,:]= -1\n",
    "        self.position[:,0:2] = -1\n",
    "        self.position[-2:, :] = -1\n",
    "        self.position[:,-2:] = -1 \n",
    "\n",
    "        self.position[self.x, self.y] = 1\n",
    "        if action == 0:\n",
    "            if self.x == self.grid_size-3:\n",
    "                self.x = self.x-1\n",
    "            else:\n",
    "                self.x = self.x + 1\n",
    "        elif action == 1:\n",
    "            if self.x == 2:\n",
    "                self.x = self.x+1\n",
    "            else:\n",
    "                self.x = self.x-1\n",
    "        elif action == 2:\n",
    "            if self.y == self.grid_size - 3:\n",
    "                self.y = self.y - 1\n",
    "            else:\n",
    "                self.y = self.y + 1\n",
    "        elif action == 3:\n",
    "            if self.y == 2:\n",
    "                self.y = self.y + 1\n",
    "            else:\n",
    "                self.y = self.y - 1\n",
    "        else:\n",
    "            RuntimeError('Error: action not recognized')\n",
    "\n",
    "        self.t = self.t + 1\n",
    "        reward = 0\n",
    "        if train:                                           # the reward is given only when trained, for test real rewards are kept  \n",
    "            reward = -self.malus_position[self.x, self.y]   # reduce reward for visiting same cells\n",
    "        self.malus_position[self.x, self.y] = 0.1\n",
    "        \n",
    "        reward = reward + self.board[self.x, self.y]\n",
    "        self.board[self.x, self.y] = 0\n",
    "        game_over = self.t > self.max_time\n",
    "        # 3 \"feature\" states instead of 2 +> we add malus position to states\n",
    "        state = np.concatenate((self.malus_position.reshape(self.grid_size, self.grid_size,1),\n",
    "                                self.board.reshape(self.grid_size, self.grid_size,1),\n",
    "                                self.position.reshape(self.grid_size, self.grid_size,1)),axis=2)\n",
    "        state = state[self.x-2:self.x+3,self.y-2:self.y+3,:]\n",
    "\n",
    "        return state, reward, game_over\n",
    "\n",
    "    def reset(self):\n",
    "        \"\"\"This function resets the game and returns the initial state\"\"\"\n",
    "\n",
    "        self.x = np.random.randint(3, self.grid_size-3, size=1)[0]\n",
    "        self.y = np.random.randint(3, self.grid_size-3, size=1)[0]\n",
    "        \n",
    "        self.malus_position[self.x, self.y] = 0.1\n",
    "\n",
    "        bonus = 0.5*np.random.binomial(1,self.temperature,size=self.grid_size**2)\n",
    "        bonus = bonus.reshape(self.grid_size,self.grid_size)\n",
    "\n",
    "        malus = -1.0*np.random.binomial(1,self.temperature,size=self.grid_size**2)\n",
    "        malus = malus.reshape(self.grid_size, self.grid_size)\n",
    "\n",
    "        self.to_draw = np.zeros((self.max_time+2, self.grid_size*self.scale, self.grid_size*self.scale, 3))\n",
    "\n",
    "\n",
    "        malus[bonus>0]=0\n",
    "\n",
    "        self.board = bonus + malus\n",
    "\n",
    "        self.position = np.zeros((self.grid_size, self.grid_size))\n",
    "        self.malus_position = np.zeros((self.grid_size, self.grid_size))\n",
    "\n",
    "        self.position[0:2,:]= -1\n",
    "        self.position[:,0:2] = -1\n",
    "        self.position[-2:, :] = -1\n",
    "        self.position[:,-2:] = -1 \n",
    "        self.board[self.x,self.y] = 0\n",
    "        self.t = 0\n",
    "\n",
    "        # 3 \"feature\" states instead of 2\n",
    "        state = np.concatenate((self.malus_position.reshape(self.grid_size, self.grid_size,1),\n",
    "                                self.board.reshape(self.grid_size, self.grid_size,1),\n",
    "                                self.position.reshape(self.grid_size, self.grid_size,1)),axis=2)\n",
    "\n",
    "        state = state[self.x - 2:self.x + 3, self.y - 2:self.y + 3, :]\n",
    "        return state"
   ]
  },
  {
   "cell_type": "code",
   "execution_count": 25,
   "metadata": {},
   "outputs": [
    {
     "name": "stdout",
     "output_type": "stream",
     "text": [
      "Epoch 000/020 | Loss 0.0019 | Win/lose count 3.0/21.70000000000005 (-18.70000000000005)\n",
      "Epoch 001/020 | Loss 0.0171 | Win/lose count 9.0/26.400000000000077 (-17.400000000000077)\n",
      "Epoch 002/020 | Loss 0.0169 | Win/lose count 3.0/21.40000000000004 (-18.40000000000004)\n",
      "Epoch 003/020 | Loss 0.0180 | Win/lose count 7.5/19.70000000000002 (-12.20000000000002)\n",
      "Epoch 004/020 | Loss 0.0107 | Win/lose count 3.0/22.60000000000006 (-19.60000000000006)\n",
      "Epoch 005/020 | Loss 0.0193 | Win/lose count 10.0/21.200000000000028 (-11.200000000000028)\n",
      "Epoch 006/020 | Loss 0.0056 | Win/lose count 6.0/26.30000000000006 (-20.30000000000006)\n",
      "Epoch 007/020 | Loss 0.0117 | Win/lose count 12.5/20.100000000000026 (-7.600000000000026)\n",
      "Epoch 008/020 | Loss 0.0037 | Win/lose count 6.5/17.999999999999986 (-11.499999999999986)\n",
      "Epoch 009/020 | Loss 0.0016 | Win/lose count 7.0/17.29999999999998 (-10.29999999999998)\n",
      "Epoch 010/020 | Loss 0.0207 | Win/lose count 8.5/19.199999999999996 (-10.699999999999996)\n",
      "Epoch 011/020 | Loss 0.0041 | Win/lose count 5.5/18.399999999999995 (-12.899999999999995)\n",
      "Epoch 012/020 | Loss 0.0106 | Win/lose count 5.5/18.499999999999993 (-12.999999999999993)\n",
      "Epoch 013/020 | Loss 0.0121 | Win/lose count 5.0/17.899999999999988 (-12.899999999999988)\n",
      "Epoch 014/020 | Loss 0.0066 | Win/lose count 10.0/16.19999999999996 (-6.19999999999996)\n",
      "Epoch 015/020 | Loss 0.0080 | Win/lose count 2.0/20.600000000000026 (-18.600000000000026)\n",
      "Epoch 016/020 | Loss 0.0122 | Win/lose count 10.5/16.79999999999997 (-6.299999999999969)\n",
      "Epoch 017/020 | Loss 0.0087 | Win/lose count 19.0/13.899999999999968 (5.100000000000032)\n",
      "Epoch 018/020 | Loss 0.0072 | Win/lose count 7.0/17.39999999999998 (-10.39999999999998)\n",
      "Epoch 019/020 | Loss 0.0034 | Win/lose count 8.0/17.599999999999984 (-9.599999999999984)\n"
     ]
    },
    {
     "data": {
      "text/html": [
       "<video alt=\"test\" controls>\n",
       "                <source src=\"data:video/mp4;base64,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\" type=\"video/mp4\" />\n",
       "             </video>"
      ],
      "text/plain": [
       "<IPython.core.display.HTML object>"
      ]
     },
     "execution_count": 25,
     "metadata": {},
     "output_type": "execute_result"
    }
   ],
   "source": [
    "# Training\n",
    "env = EnvironmentExploring(grid_size=size, max_time=T, temperature=0.3)\n",
    "agent = DQN_CNN(size, lr=.1, epsilon = 0.1, memory_size=2000, batch_size = 32,n_state=3)\n",
    "train_explore(agent, env, epochs_train, prefix='cnn_train_explore')\n",
    "HTML(display_videos('cnn_train_explore10.mp4'))"
   ]
  },
  {
   "cell_type": "code",
   "execution_count": 26,
   "metadata": {},
   "outputs": [
    {
     "name": "stdout",
     "output_type": "stream",
     "text": [
      "Win/lose count 2.0/0. Average score (2.0)\n",
      "Win/lose count 14.5/0. Average score (8.25)\n",
      "Win/lose count 3.0/0. Average score (6.5)\n",
      "Win/lose count 8.5/1.0. Average score (6.75)\n",
      "Win/lose count 8.0/1.0. Average score (6.8)\n",
      "Win/lose count 11.5/0. Average score (7.583333333333333)\n",
      "Win/lose count 7.5/1.0. Average score (7.428571428571429)\n",
      "Win/lose count 3.5/0. Average score (6.9375)\n",
      "Win/lose count 7.0/0. Average score (6.944444444444445)\n",
      "Win/lose count 5.5/2.0. Average score (6.6)\n",
      "Win/lose count 6.5/1.0. Average score (6.5)\n",
      "Win/lose count 5.0/2.0. Average score (6.208333333333333)\n",
      "Win/lose count 5.5/1.0. Average score (6.076923076923077)\n",
      "Win/lose count 1.5/0. Average score (5.75)\n",
      "Win/lose count 4.0/0. Average score (5.633333333333334)\n",
      "Final score: 5.633333333333334\n"
     ]
    },
    {
     "data": {
      "text/html": [
       "<video alt=\"test\" controls>\n",
       "                <source src=\"data:video/mp4;base64,AAAAIGZ0eXBpc29tAAACAGlzb21pc28yYXZjMW1wNDEAAAAIZnJlZQAAGX1tZGF0AAACrQYF//+p3EXpvebZSLeWLNgg2SPu73gyNjQgLSBjb3JlIDE1NSByMjkwMSA3ZDBmZjIyIC0gSC4yNjQvTVBFRy00IEFWQyBjb2RlYyAtIENvcHlsZWZ0IDIwMDMtMjAxOCAtIGh0dHA6Ly93d3cudmlkZW9sYW4ub3JnL3gyNjQuaHRtbCAtIG9wdGlvbnM6IGNhYmFjPTEgcmVmPTMgZGVibG9jaz0xOjA6MCBhbmFseXNlPTB4MToweDExMSBtZT1oZXggc3VibWU9NyBwc3k9MSBwc3lfcmQ9MS4wMDowLjAwIG1peGVkX3JlZj0xIG1lX3JhbmdlPTE2IGNocm9tYV9tZT0xIHRyZWxsaXM9MSA4eDhkY3Q9MCBjcW09MCBkZWFkem9uZT0yMSwxMSBmYXN0X3Bza2lwPTEgY2hyb21hX3FwX29mZnNldD00IHRocmVhZHM9OCBsb29rYWhlYWRfdGhyZWFkcz0xIHNsaWNlZF90aHJlYWRzPTAgbnI9MCBkZWNpbWF0ZT0xIGludGVybGFjZWQ9MCBibHVyYXlfY29tcGF0PTAgY29uc3RyYWluZWRfaW50cmE9MCBiZnJhbWVzPTMgYl9weXJhbWlkPTIgYl9hZGFwdD0xIGJfYmlhcz0wIGRpcmVjdD0xIHdlaWdodGI9MSBvcGVuX2dvcD0wIHdlaWdodHA9MiBrZXlpbnQ9MjUwIGtleWludF9taW49MjUgc2NlbmVjdXQ9NDAgaW50cmFfcmVmcmVzaD0wIHJjX2xvb2thaGVhZD00MCByYz1jcmYgbWJ0cmVlPTEgY3JmPTIzLjAgcWNvbXA9MC42MCBxcG1pbj0wIHFwbWF4PTY5IHFwc3RlcD00IGlwX3JhdGlvPTEuNDAgYXE9MToxLjAwAIAAAAKsZYiEADf//vaH+BTZWBP+Wb/9DX/cj9uPrP1xYyEE31qvIejAGS+1H+b/rFFs6Z6UB/fgCJQAc24ZwpJw4v/ApLdW+BTLYTkVLnX1aIxw4jw34T+sr5nf6CxMUuUUsv/aOYZvcCj3wlvvtH4kG04E5mG8ankooKReVUmotyW7FFlTbB5HToz6iV/x4MlCspuZNifkr06NDC1GoaSWEEnrMU3cuZosz87BV377HAukgomEJkNZj91gXdbrDi/ujwsxTB0B/mUudNJhicVrSoLNEuFoxyapN5X8ZAUxgIGCYhcq/IRg8+Md+nMHheVaRVlI+BClVVzBZ+3ZuVk4/jhVlLNPYuA10TvmFihowCdnCj7RtVyQJksZcKDjHWFbS5uw9ZQQjnMepmUhEBJqjVD0kRglLLVcGgAAw0bVKJ6DuBoAaNQAgnRpeovj7znaRVNlhmh7aEfooaiCk4O8TdICa8SwcYAP2rw5mxZ33LiaicBta6XVO8Jxo0T5JqhqEiV/fRMUf7SbATl1VTyiRUIzJswPsH5/yDyPAkFZYJAL07LTCiM+5wrxZe0CaAaZfbk41BLqsoxE5AfJOAACV/l9AgtRsAc+vd+DsyETo6QpLw2EH1XEonn17eu7L1VIJv2zPT8Et2jzIS/pvElrahUSF3AWzo8wIQtwevVhphfkUJJ7bY6tCt6o/hwdPRhkENZxOo7hcCPYA5RYrltGMfQc63nRNkX0R9ABKKk2XNDrXHAcUbbvG8tvGmlhjpY0tRbUl7/686k01izmvCV/H/n96VZ/282IcVpOHLEKZSb40H9ABbc1/xhs8CnSqqGFMoR8hyqhiK09Y/IsepLO/ILO12KyYjUfAaZTEvwQw0ECzR7VAkjg5Vrqwtoq5e+9d6spwe6dlU0mSK2nABoRAAAAIUGaI2xDP/6eEABxvhA5eZZXPePmWJYL5lk2DgpHnG6NLAAAABJBnkF4hX8AF+k0IuSbn/URUT8AAAAQAZ5iakK/ABfnbhNxn16ieAAAABpBmmRJqEFomUwIb//+p4QALV6J/qR0ci15QQAAABhBmoVJ4QpSZTAhv/6nhAAueK0ghE/y3AsAAAAfQZqpSeEOiZTAhn/+nhAAuvum90w8wdtUjRoLn9qNwQAAABVBnsdFETwv/wAcT7QnLdM4w9xfTlEAAAAQAZ7mdEK/ACa7jvK2UPTxgAAAABABnuhqQr8AGSI7c60ML2FAAAAAGUGa6kmoQWiZTAhn//6eEABLviH9shj6w20AAAAYQZsLSeEKUmUwIZ/+nhAAMT6+/kSI+sQuAAAAGEGbLEnhDomUwIZ//p4QAB8vX38iRH1iswAAABhBm01J4Q8mUwIZ//6eEAAU+vcaF033YI0AAAAZQZtuSeEPJlMCG//+p4QABYcVo6PuNmDGsQAAAB5Bm5BJ4Q8mUwURPDP//p4QACGiHKtwXk5zebXeM60AAAAQAZ+vakK/AAcVnhDxoa0PgAAAABhBm7FJ4Q8mUwIb//6nhAAI6PmPIxP8uB8AAAAZQZvSSeEPJlMCG//+p4QADc0if6rfMfi7oQAAAB9Bm/ZJ4Q8mUwIb//6nhAAWP3U+7zdYzdYmnA1IPHWAAAAAFkGeFEURPC//AA0ySXJm13Tyoal3u8AAAAAQAZ4zdEK/ABHfNUDp2oeEgQAAABABnjVqQr8AEdlcirwBQH2AAAAAHEGaOEmoQWiZTBTwz/6eEAAj3xD/GK7kbs2FiiEAAAAQAZ5XakK/AAdsImab6SDycQAAABhBmllJ4QpSZTAhv/6nhAAGRdWjqobcVYAAAAAaQZp6SeEOiZTAhv/+p4QACaoAs2203P/716EAAAAeQZqcSeEPJlMFETw3//6nhAAJqoN8ojl54FhBWuNgAAAADwGeu2pCvwAHxBSmbZkcJQAAABlBmr9J4Q8mUwIb//6nhAAOIcZ/qt8x+LphAAAAEUGe3UURPCv/AAuljv+jkiufAAAAEAGe/mpCvwALpYR5MD18PoAAAAAaQZrgSahBaJlMCHf//qmWAAdIdPymjH601cEAAAAaQZsESeEKUmUwIb/+p4QAFiCpWbc146fa3yAAAAAQQZ8iRTRML/8ADTKvG9gq+QAAAA8Bn0F0Qr8AEmEAdCcmIsAAAAAQAZ9DakK/ABHdohNxn16laQAAABpBm0dJqEFomUwIb//+p4QAFj91P1HGhIdLwQAAABJBn2VFESwr/wAbqGl3eBTUYUEAAAAOAZ+GakK/ABuiXGd+GAsAAAAaQZuISahBbJlMCHf//qmWAAcn2l/O6QphKTAAAAARQZusSeEKUmUwIb/+p4QAAScAAAATQZ/KRTRML/8ABYsluUzHzERXvwAAABABn+l0Qr8AB2uLM8r8lOaYAAAAEAGf62pCvwAHl5w17zStGcAAAAAaQZvvSahBaJlMCG///qeEAA4hxn+q3zH4umEAAAARQZ4NRREsK/8AC6WO/6OSK58AAAAQAZ4uakK/AAulhHkwPXw+gQAAABpBmjBJqEFsmUwIb//+p4QADng8KdZ0+66UgAAAABxBmlRJ4QpSZTAhn/6eEABWQAMF6I7HwFM/jOSAAAAAEEGeckU0TC//AA0yrxvYKvkAAAAPAZ6RdEK/ABJhAHQnJiLAAAAAEAGek2pCvwAR3aITcZ9epWgAAAAZQZqVSahBaJlMCG///qeEABasVpBCJ/lukwAAABpBmrdJ4QpSZTBREsM//p4QAFh9quzWSzdmFgAAAA8BntZqQr8AEllbpRpDxpcAAAAXQZrYSeEOiZTAhn/+nhAAVkH7xzm+uR0AAAAXQZr5SeEPJlMCG//+p4QAFrEMfE/y3SYAAAAZQZsbSeEPJlMFETwz//6eEABYfars2Xqq4QAAAA8BnzpqQr8AEllbpRpDxpYAAAAXQZs8SeEPJlMCGf/+nhAAVkH7xzm+uR0AAAAXQZtdSeEPJlMCG//+p4QAFrEMfE/y3ScAAAAZQZt/SeEPJlMFETwz//6eEABYfars2Xqq4AAAAA8Bn55qQr8AEllbpRpDxpYAAAAXQZuASeEPJlMCGf/+nhAAVkH7xzm+uR0AAAAXQZuhSeEPJlMCG//+p4QAFrEMfE/y3SYAAAAZQZvDSeEPJlMFETwz//6eEABYfars2Xqq4QAAAA8Bn+JqQr8AEllbpRpDxpYAAAAXQZvkSeEPJlMCGf/+nhAAVkH7xzm+uR0AAAAXQZoFSeEPJlMCG//+p4QAFrEMfE/y3ScAAAAZQZonSeEPJlMFETwz//6eEABYfars2Xqq4QAAAA8BnkZqQr8AEllbpRpDxpcAAAAXQZpISeEPJlMCGf/+nhAAVkH7xzm+uRwAAAAXQZppSeEPJlMCG//+p4QAFrEMfE/y3SYAAAAZQZqLSeEPJlMFETwz//6eEABYfars2Xqq4QAAAA8BnqpqQr8AEllbpRpDxpYAAAAXQZqsSeEPJlMCGf/+nhAAVkH7xzm+uRwAAAAXQZrNSeEPJlMCG//+p4QAFrEMfE/y3ScAAAAZQZrvSeEPJlMFETwz//6eEABYfars2Xqq4QAAAA8Bnw5qQr8AEllbpRpDxpcAAAAXQZsQSeEPJlMCGf/+nhAAVkH7xzm+uRwAAAAXQZsxSeEPJlMCG//+p4QAFrEMfE/y3SYAAAAZQZtTSeEPJlMFETwz//6eEABYfars2Xqq4QAAAA8Bn3JqQr8AEllbpRpDxpYAAAAXQZt0SeEPJlMCGf/+nhAAVkH7xzm+uRwAAAAXQZuVSeEPJlMCG//+p4QAFrEMfE/y3ScAAAAZQZu3SeEPJlMFETwz//6eEABYfars2Xqq4AAAAA8Bn9ZqQr8AEllbpRpDxpcAAAAXQZvYSeEPJlMCGf/+nhAAVkH7xzm+uR0AAAAXQZv5SeEPJlMCG//+p4QAFrEMfE/y3SYAAAAZQZobSeEPJlMFETwz//6eEABYfars2Xqq4QAAAA8BnjpqQr8AEllbpRpDxpYAAAAXQZo8SeEPJlMCGf/+nhAAVkH7xzm+uR0AAAAXQZpdSeEPJlMCG//+p4QAFrEMfE/y3ScAAAAZQZp/SeEPJlMFETwz//6eEABYfars2Xqq4AAAAA8Bnp5qQr8AEllbpRpDxpYAAAAXQZqASeEPJlMCGf/+nhAAVkH7xzm+uR0AAAAXQZqhSeEPJlMCG//+p4QAFrEMfE/y3SYAAAAZQZrDSeEPJlMFETwz//6eEABYfars2Xqq4QAAAA8BnuJqQr8AEllbpRpDxpYAAAAXQZrkSeEPJlMCGf/+nhAAVkH7xzm+uR0AAAAXQZsFSeEPJlMCG//+p4QAFrEMfE/y3ScAAAAZQZsnSeEPJlMFETwz//6eEABYfars2Xqq4QAAAA8Bn0ZqQr8AEllbpRpDxpcAAAAXQZtISeEPJlMCGf/+nhAAVkH7xzm+uRwAAAAXQZtpSeEPJlMCG//+p4QAFrEMfE/y3SYAAAAZQZuLSeEPJlMFETwz//6eEABYfars2Xqq4QAAAA8Bn6pqQr8AEllbpRpDxpYAAAAXQZusSeEPJlMCGf/+nhAAVkH7xzm+uRwAAAAXQZvNSeEPJlMCG//+p4QAFrEMfE/y3ScAAAAZQZvvSeEPJlMFETwz//6eEABYfars2Xqq4QAAAA8Bng5qQr8AEllbpRpDxpcAAAAXQZoQSeEPJlMCGf/+nhAAVkH7xzm+uRwAAAAXQZoxSeEPJlMCG//+p4QAFrEMfE/y3SYAAAAZQZpTSeEPJlMFETwz//6eEABYfars2Xqq4QAAAA8BnnJqQr8AEllbpRpDxpYAAAAXQZp0SeEPJlMCGf/+nhAAVkH7xzm+uRwAAAAXQZqVSeEPJlMCG//+p4QAFrEMfE/y3ScAAAAZQZq3SeEPJlMFETwz//6eEABYfars2Xqq4AAAAA8BntZqQr8AEllbpRpDxpcAAAAXQZrYSeEPJlMCGf/+nhAAVkH7xzm+uR0AAAAXQZr5SeEPJlMCG//+p4QAFrEMfE/y3SYAAAAZQZsbSeEPJlMFETwz//6eEABYfars2Xqq4QAAAA8BnzpqQr8AEllbpRpDxpYAAAAXQZs8SeEPJlMCGf/+nhAAVkH7xzm+uR0AAAAXQZtdSeEPJlMCG//+p4QAFrEMfE/y3ScAAAAZQZt/SeEPJlMFETwz//6eEABYfars2Xqq4AAAAA8Bn55qQr8AEllbpRpDxpYAAAAXQZuASeEPJlMCGf/+nhAAVkH7xzm+uR0AAAAXQZuhSeEPJlMCG//+p4QAFrEMfE/y3SYAAAAZQZvDSeEPJlMFETwz//6eEABYfars2Xqq4QAAAA8Bn+JqQr8AEllbpRpDxpYAAAAXQZvkSeEPJlMCGf/+nhAAVkH7xzm+uR0AAAAXQZoFSeEPJlMCG//+p4QAFrEMfE/y3ScAAAAZQZonSeEPJlMFETwz//6eEABYfars2Xqq4QAAAA8BnkZqQr8AEllbpRpDxpcAAAAXQZpISeEPJlMCGf/+nhAAVkH7xzm+uRwAAAAXQZppSeEPJlMCG//+p4QAFrEMfE/y3SYAAAAZQZqLSeEPJlMFETwz//6eEABYfars2Xqq4QAAAA8BnqpqQr8AEllbpRpDxpYAAAAXQZqsSeEPJlMCGf/+nhAAVkH7xzm+uRwAAAAXQZrNSeEPJlMCG//+p4QAFrEMfE/y3ScAAAAZQZrvSeEPJlMFETwz//6eEABYfars2Xqq4QAAAA8Bnw5qQr8AEllbpRpDxpcAAAAXQZsQSeEPJlMCGf/+nhAAVkH7xzm+uRwAAAAXQZsxSeEPJlMCG//+p4QAFrEMfE/y3SYAAAAZQZtTSeEPJlMFETwz//6eEABYfars2Xqq4QAAAA8Bn3JqQr8AEllbpRpDxpYAAAAXQZt0SeEPJlMCGf/+nhAAVkH7xzm+uRwAAAAXQZuVSeEPJlMCG//+p4QAFrEMfE/y3ScAAAAZQZu3SeEPJlMFETwz//6eEABYfars2Xqq4AAAAA8Bn9ZqQr8AEllbpRpDxpcAAAAXQZvYSeEPJlMCGf/+nhAAVkH7xzm+uR0AAAAXQZv5SeEPJlMCG//+p4QAFrEMfE/y3SYAAAAZQZobSeEPJlMFETwz//6eEABYfars2Xqq4QAAAA8BnjpqQr8AEllbpRpDxpYAAAAXQZo8SeEPJlMCGf/+nhAAVkH7xzm+uR0AAAAXQZpdSeEPJlMCG//+p4QAFrEMfE/y3ScAAAAZQZp/SeEPJlMFETwz//6eEABYfars2Xqq4AAAAA8Bnp5qQr8AEllbpRpDxpYAAAAXQZqASeEPJlMCGf/+nhAAVkH7xzm+uR0AAAAXQZqhSeEPJlMCG//+p4QAFrEMfE/y3SYAAAAZQZrDSeEPJlMFETwz//6eEABYfars2Xqq4QAAAA8BnuJqQr8AEllbpRpDxpYAAAAXQZrkSeEPJlMCGf/+nhAAVkH7xzm+uR0AAAAXQZsFSeEPJlMCG//+p4QAFrEMfE/y3ScAAAAZQZsnSeEPJlMFETwz//6eEABYfars2Xqq4QAAAA8Bn0ZqQr8AEllbpRpDxpcAAAAXQZtISeEPJlMCGf/+nhAAVkH7xzm+uRwAAAAXQZtpSeEPJlMCG//+p4QAFrEMfE/y3SYAAAAZQZuLSeEPJlMFETwz//6eEABYfars2Xqq4QAAAA8Bn6pqQr8AEllbpRpDxpYAAAAXQZusSeEPJlMCGf/+nhAAVkH7xzm+uRwAAAAXQZvNSeEPJlMCG//+p4QAFrEMfE/y3ScAAAAZQZvvSeEPJlMFETwz//6eEABYfars2Xqq4QAAAA8Bng5qQr8AEllbpRpDxpcAAAAXQZoQSeEPJlMCGf/+nhAAVkH7xzm+uRwAAAAXQZoxSeEPJlMCG//+p4QAFrEMfE/y3SYAAAAZQZpTSeEPJlMFETwz//6eEABYfars2Xqq4QAAAA8BnnJqQr8AEllbpRpDxpYAAAAXQZp0SeEPJlMCGf/+nhAAVkH7xzm+uRwAAAAXQZqVSeEPJlMCG//+p4QAFrEMfE/y3ScAAAAZQZq3SeEPJlMFETwz//6eEABYfars2Xqq4AAAAA8BntZqQr8AEllbpRpDxpcAAAAXQZrYSeEPJlMCGf/+nhAAVkH7xzm+uR0AAAAXQZr5SeEPJlMCG//+p4QAFrEMfE/y3SYAAAAZQZsbSeEPJlMFETwz//6eEABYfars2Xqq4QAAAA8BnzpqQr8AEllbpRpDxpYAAAAXQZs8SeEPJlMCGf/+nhAAVkH7xzm+uR0AAAAXQZtdSeEPJlMCG//+p4QAFrEMfE/y3ScAAAAZQZt/SeEPJlMFETwz//6eEABYfars2Xqq4AAAAA8Bn55qQr8AEllbpRpDxpYAAAAXQZuASeEPJlMCGf/+nhAAVkH7xzm+uR0AAAAXQZuhSeEPJlMCGf/+nhAAWIH60F/JFJgAAAAZQZvDSeEPJlMFETwz//6eEABYfars2Xqq4QAAAA8Bn+JqQr8AEllbpRpDxpYAAAAXQZvkSeEPJlMCGf/+nhAAVkH7xzm+uR0AAAAXQZoFSeEPJlMCGf/+nhAAWIH60F/JFJkAAAAZQZonSeEPJlMFETwz//6eEABYfars2Xqq4QAAAA8BnkZqQr8AEllbpRpDxpcAAAAaQZpJS+EIQ8kRggoB/IB/YeAU8K/+OEAAEXAAAAAlAZ5oakK/Aq9j7UHE3arDSSblqoYHLLW7zSokJgB3d5zWikzoMAAACxBtb292AAAAbG12aGQAAAAAAAAAAAAAAAAAAAPoAAAfkAABAAABAAAAAAAAAAAAAAAAAQAAAAAAAAAAAAAAAAAAAAEAAAAAAAAAAAAAAAAAAEAAAAAAAAAAAAAAAAAAAAAAAAAAAAAAAAAAAAAAAAACAAAKOnRyYWsAAABcdGtoZAAAAAMAAAAAAAAAAAAAAAEAAAAAAAAfkAAAAAAAAAAAAAAAAAAAAAAAAQAAAAAAAAAAAAAAAAAAAAEAAAAAAAAAAAAAAAAAAEAAAAABEAAAARAAAAAAACRlZHRzAAAAHGVsc3QAAAAAAAAAAQAAH5AAAAQAAAEAAAAACbJtZGlhAAAAIG1kaGQAAAAAAAAAAAAAAAAAADIAAAGUAFXEAAAAAAAtaGRscgAAAAAAAAAAdmlkZQAAAAAAAAAAAAAAAFZpZGVvSGFuZGxlcgAAAAldbWluZgAAABR2bWhkAAAAAQAAAAAAAAAAAAAAJGRpbmYAAAAcZHJlZgAAAAAAAAABAAAADHVybCAAAAABAAAJHXN0YmwAAACVc3RzZAAAAAAAAAABAAAAhWF2YzEAAAAAAAAAAQAAAAAAAAAAAAAAAAAAAAABEAEQAEgAAABIAAAAAAAAAAEAAAAAAAAAAAAAAAAAAAAAAAAAAAAAAAAAAAAAAAAAAAAY//8AAAAvYXZjQwH0AA3/4QAXZ/QADZGbKCIR0IAAAAMAgAAAGQeKFMsBAAVo6+PESAAAABhzdHRzAAAAAAAAAAEAAADKAAACAAAAABRzdHNzAAAAAAAAAAEAAAABAAAE6GN0dHMAAAAAAAAAmwAAAAEAAAQAAAAAAQAACAAAAAACAAACAAAAAAIAAAQAAAAAAQAACgAAAAABAAAEAAAAAAEAAAAAAAAAAQAAAgAAAAAFAAAEAAAAAAEAAAYAAAAAAQAAAgAAAAACAAAEAAAAAAEAAAoAAAAAAQAABAAAAAABAAAAAAAAAAEAAAIAAAAAAQAABgAAAAABAAACAAAAAAIAAAQAAAAAAQAABgAAAAABAAACAAAAAAEAAAgAAAAAAgAAAgAAAAABAAAEAAAAAAEAAAoAAAAAAQAABAAAAAABAAAAAAAAAAEAAAIAAAAAAQAACAAAAAACAAACAAAAAAEAAAQAAAAAAQAACgAAAAABAAAEAAAAAAEAAAAAAAAAAQAAAgAAAAABAAAIAAAAAAIAAAIAAAAAAQAABAAAAAABAAAKAAAAAAEAAAQAAAAAAQAAAAAAAAABAAACAAAAAAEAAAQAAAAAAQAABgAAAAABAAACAAAAAAIAAAQAAAAAAQAABgAAAAABAAACAAAAAAIAAAQAAAAAAQAABgAAAAABAAACAAAAAAIAAAQAAAAAAQAABgAAAAABAAACAAAAAAIAAAQAAAAAAQAABgAAAAABAAACAAAAAAIAAAQAAAAAAQAABgAAAAABAAACAAAAAAIAAAQAAAAAAQAABgAAAAABAAACAAAAAAIAAAQAAAAAAQAABgAAAAABAAACAAAAAAIAAAQAAAAAAQAABgAAAAABAAACAAAAAAIAAAQAAAAAAQAABgAAAAABAAACAAAAAAIAAAQAAAAAAQAABgAAAAABAAACAAAAAAIAAAQAAAAAAQAABgAAAAABAAACAAAAAAIAAAQAAAAAAQAABgAAAAABAAACAAAAAAIAAAQAAAAAAQAABgAAAAABAAACAAAAAAIAAAQAAAAAAQAABgAAAAABAAACAAAAAAIAAAQAAAAAAQAABgAAAAABAAACAAAAAAIAAAQAAAAAAQAABgAAAAABAAACAAAAAAIAAAQAAAAAAQAABgAAAAABAAACAAAAAAIAAAQAAAAAAQAABgAAAAABAAACAAAAAAIAAAQAAAAAAQAABgAAAAABAAACAAAAAAIAAAQAAAAAAQAABgAAAAABAAACAAAAAAIAAAQAAAAAAQAABgAAAAABAAACAAAAAAIAAAQAAAAAAQAABgAAAAABAAACAAAAAAIAAAQAAAAAAQAABgAAAAABAAACAAAAAAIAAAQAAAAAAQAABgAAAAABAAACAAAAAAIAAAQAAAAAAQAABgAAAAABAAACAAAAAAIAAAQAAAAAAQAABgAAAAABAAACAAAAAAIAAAQAAAAAAQAABgAAAAABAAACAAAAAAIAAAQAAAAAAQAABgAAAAABAAACAAAAAAIAAAQAAAAAAQAABgAAAAABAAACAAAAAAIAAAQAAAAAAQAABgAAAAABAAACAAAAAAIAAAQAAAAAAQAABgAAAAABAAACAAAAAAIAAAQAAAAAAQAABgAAAAABAAACAAAAAAIAAAQAAAAAAQAABgAAAAABAAACAAAAAAIAAAQAAAAAAQAABgAAAAABAAACAAAAAAIAAAQAAAAAAQAABgAAAAABAAACAAAAAAIAAAQAAAAAAQAABgAAAAABAAACAAAAAAEAAAYAAAAAAQAAAgAAAAAcc3RzYwAAAAAAAAABAAAAAQAAAMoAAAABAAADPHN0c3oAAAAAAAAAAAAAAMoAAAVhAAAAJQAAABYAAAAUAAAAHgAAABwAAAAjAAAAGQAAABQAAAAUAAAAHQAAABwAAAAcAAAAHAAAAB0AAAAiAAAAFAAAABwAAAAdAAAAIwAAABoAAAAUAAAAFAAAACAAAAAUAAAAHAAAAB4AAAAiAAAAEwAAAB0AAAAVAAAAFAAAAB4AAAAeAAAAFAAAABMAAAAUAAAAHgAAABYAAAASAAAAHgAAABUAAAAXAAAAFAAAABQAAAAeAAAAFQAAABQAAAAeAAAAIAAAABQAAAATAAAAFAAAAB0AAAAeAAAAEwAAABsAAAAbAAAAHQAAABMAAAAbAAAAGwAAAB0AAAATAAAAGwAAABsAAAAdAAAAEwAAABsAAAAbAAAAHQAAABMAAAAbAAAAGwAAAB0AAAATAAAAGwAAABsAAAAdAAAAEwAAABsAAAAbAAAAHQAAABMAAAAbAAAAGwAAAB0AAAATAAAAGwAAABsAAAAdAAAAEwAAABsAAAAbAAAAHQAAABMAAAAbAAAAGwAAAB0AAAATAAAAGwAAABsAAAAdAAAAEwAAABsAAAAbAAAAHQAAABMAAAAbAAAAGwAAAB0AAAATAAAAGwAAABsAAAAdAAAAEwAAABsAAAAbAAAAHQAAABMAAAAbAAAAGwAAAB0AAAATAAAAGwAAABsAAAAdAAAAEwAAABsAAAAbAAAAHQAAABMAAAAbAAAAGwAAAB0AAAATAAAAGwAAABsAAAAdAAAAEwAAABsAAAAbAAAAHQAAABMAAAAbAAAAGwAAAB0AAAATAAAAGwAAABsAAAAdAAAAEwAAABsAAAAbAAAAHQAAABMAAAAbAAAAGwAAAB0AAAATAAAAGwAAABsAAAAdAAAAEwAAABsAAAAbAAAAHQAAABMAAAAbAAAAGwAAAB0AAAATAAAAGwAAABsAAAAdAAAAEwAAABsAAAAbAAAAHQAAABMAAAAbAAAAGwAAAB0AAAATAAAAGwAAABsAAAAdAAAAEwAAABsAAAAbAAAAHQAAABMAAAAbAAAAGwAAAB0AAAATAAAAGwAAABsAAAAdAAAAEwAAAB4AAAApAAAAFHN0Y28AAAAAAAAAAQAAADAAAABidWR0YQAAAFptZXRhAAAAAAAAACFoZGxyAAAAAAAAAABtZGlyYXBwbAAAAAAAAAAAAAAAAC1pbHN0AAAAJal0b28AAAAdZGF0YQAAAAEAAAAATGF2ZjU4LjEzLjEwMA==\" type=\"video/mp4\" />\n",
       "             </video>"
      ],
      "text/plain": [
       "<IPython.core.display.HTML object>"
      ]
     },
     "execution_count": 26,
     "metadata": {},
     "output_type": "execute_result"
    }
   ],
   "source": [
    "# Evaluation\n",
    "test(agent,env,epochs_test,prefix='cnn_test_explore')\n",
    "HTML(display_videos('cnn_test_explore10.mp4'))"
   ]
  },
  {
   "cell_type": "markdown",
   "metadata": {},
   "source": [
    "> Decay epsilon-greedy helps to have better training since agent make less mistakes because of random actions. Thus, it makes exploration more carefull.\n",
    "\n",
    "> What encourages more efficient exploration is penalty for previously visited cells. Rat gets less stuck in around its position but it still happens.\n",
    "\n",
    "> Therefore, optimizing exploration strategy helps to get better performance (more winning than loosing) but it doesn't increase score dramatically comparing to previous models."
   ]
  },
  {
   "cell_type": "markdown",
   "metadata": {},
   "source": [
    "***\n",
    "***\n",
    "__BONUS question__ Use the expert DQN from the previous question to generate some winning games. Train a model that mimicks its behavior. Compare the performances."
   ]
  },
  {
   "cell_type": "markdown",
   "metadata": {},
   "source": []
  },
  {
   "cell_type": "markdown",
   "metadata": {},
   "source": [
    "***"
   ]
  }
 ],
 "metadata": {
  "kernelspec": {
   "display_name": "Python 3",
   "language": "python",
   "name": "python3"
  },
  "language_info": {
   "codemirror_mode": {
    "name": "ipython",
    "version": 3
   },
   "file_extension": ".py",
   "mimetype": "text/x-python",
   "name": "python",
   "nbconvert_exporter": "python",
   "pygments_lexer": "ipython3",
   "version": "3.6.5"
  }
 },
 "nbformat": 4,
 "nbformat_minor": 2
}
